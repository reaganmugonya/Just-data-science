{
 "cells": [
  {
   "cell_type": "code",
   "execution_count": 1,
   "id": "3cfc9e53",
   "metadata": {},
   "outputs": [],
   "source": [
    "import numpy as np\n",
    "import pandas as pd"
   ]
  },
  {
   "cell_type": "code",
   "execution_count": 2,
   "id": "18922133",
   "metadata": {},
   "outputs": [],
   "source": [
    "#loading train and testing data\n",
    "\n",
    "loaded_train = np.load('100k_data.npz')\n",
    "\n",
    "loaded_test = np.load('30k_test_data.npz')"
   ]
  },
  {
   "cell_type": "code",
   "execution_count": 3,
   "id": "02d3f080",
   "metadata": {},
   "outputs": [
    {
     "data": {
      "text/plain": [
       "['arr_0']"
      ]
     },
     "execution_count": 3,
     "metadata": {},
     "output_type": "execute_result"
    }
   ],
   "source": [
    "loaded_train.files"
   ]
  },
  {
   "cell_type": "code",
   "execution_count": 4,
   "id": "41237079",
   "metadata": {},
   "outputs": [
    {
     "data": {
      "text/plain": [
       "['arr_0']"
      ]
     },
     "execution_count": 4,
     "metadata": {},
     "output_type": "execute_result"
    }
   ],
   "source": [
    "loaded_test.files"
   ]
  },
  {
   "cell_type": "code",
   "execution_count": 5,
   "id": "a02b42fb",
   "metadata": {},
   "outputs": [],
   "source": [
    "#extract train dataset\n",
    "Train = loaded_train['arr_0']"
   ]
  },
  {
   "cell_type": "code",
   "execution_count": 6,
   "id": "8fa76771",
   "metadata": {},
   "outputs": [],
   "source": [
    "#extract test dataset\n",
    "Test = loaded_test['arr_0']"
   ]
  },
  {
   "cell_type": "code",
   "execution_count": 7,
   "id": "26c7abb7",
   "metadata": {},
   "outputs": [],
   "source": [
    "#create test dataframe\n",
    "Test_df = pd.DataFrame(Test)"
   ]
  },
  {
   "cell_type": "code",
   "execution_count": 8,
   "id": "1fe0797c",
   "metadata": {},
   "outputs": [],
   "source": [
    "#creating the X_Test and y_test\n",
    "X_Test = Test_df.iloc[:, 0:-1]\n",
    "y_test = Test_df.iloc[:, -1]\n"
   ]
  },
  {
   "cell_type": "code",
   "execution_count": 9,
   "id": "f25ef15f",
   "metadata": {},
   "outputs": [
    {
     "data": {
      "text/plain": [
       "(30000, 2381)"
      ]
     },
     "execution_count": 9,
     "metadata": {},
     "output_type": "execute_result"
    }
   ],
   "source": [
    "X_Test.shape"
   ]
  },
  {
   "cell_type": "code",
   "execution_count": 10,
   "id": "15432e94",
   "metadata": {},
   "outputs": [
    {
     "data": {
      "text/plain": [
       "(30000,)"
      ]
     },
     "execution_count": 10,
     "metadata": {},
     "output_type": "execute_result"
    }
   ],
   "source": [
    "y_test.shape"
   ]
  },
  {
   "cell_type": "code",
   "execution_count": 11,
   "id": "3975c2a8",
   "metadata": {},
   "outputs": [
    {
     "data": {
      "text/plain": [
       "(30000, 2382)"
      ]
     },
     "execution_count": 11,
     "metadata": {},
     "output_type": "execute_result"
    }
   ],
   "source": [
    "Test_df.shape"
   ]
  },
  {
   "cell_type": "code",
   "execution_count": 12,
   "id": "32b699d5",
   "metadata": {},
   "outputs": [],
   "source": [
    "#create train dataframe\n",
    "Train_df = pd.DataFrame(Train)"
   ]
  },
  {
   "cell_type": "code",
   "execution_count": 13,
   "id": "6c9073af",
   "metadata": {},
   "outputs": [],
   "source": [
    "#creating the X_Train and y_train\n",
    "X_Train = Train_df.iloc[:, 0:-1]\n",
    "y_train = Train_df.iloc[:, -1]"
   ]
  },
  {
   "cell_type": "code",
   "execution_count": 14,
   "id": "7b5a361d",
   "metadata": {},
   "outputs": [
    {
     "data": {
      "text/plain": [
       "(100002, 2382)"
      ]
     },
     "execution_count": 14,
     "metadata": {},
     "output_type": "execute_result"
    }
   ],
   "source": [
    "Train_df.shape"
   ]
  },
  {
   "cell_type": "code",
   "execution_count": 15,
   "id": "a43015ed",
   "metadata": {},
   "outputs": [
    {
     "data": {
      "text/plain": [
       "(100002, 2381)"
      ]
     },
     "execution_count": 15,
     "metadata": {},
     "output_type": "execute_result"
    }
   ],
   "source": [
    "X_Train.shape"
   ]
  },
  {
   "cell_type": "code",
   "execution_count": 16,
   "id": "8e387198",
   "metadata": {},
   "outputs": [
    {
     "data": {
      "text/plain": [
       "(100002,)"
      ]
     },
     "execution_count": 16,
     "metadata": {},
     "output_type": "execute_result"
    }
   ],
   "source": [
    "y_train.shape"
   ]
  },
  {
   "cell_type": "code",
   "execution_count": 17,
   "id": "323a6f56",
   "metadata": {},
   "outputs": [],
   "source": [
    "#Scaling \n",
    "\n",
    "from sklearn import preprocessing\n",
    "\n",
    "scaler_1 = preprocessing.StandardScaler().fit(X_Train)\n",
    "X_Train_scaled = scaler_1.transform(X_Train) \n",
    "\n",
    "# test data\n",
    "scaler_2 = preprocessing.StandardScaler().fit(X_Test)\n",
    "X_Test_scaled = scaler_2.transform(X_Test)"
   ]
  },
  {
   "cell_type": "code",
   "execution_count": 18,
   "id": "594fe95e",
   "metadata": {},
   "outputs": [
    {
     "data": {
      "text/plain": [
       "array([[ 0.22037993,  0.21651651, -0.04670467, ..., -0.01617937,\n",
       "        -0.01970084, -0.00989678],\n",
       "       [-0.06071801,  2.7340596 , -0.01692768, ..., -0.01722261,\n",
       "        -0.01970084, -0.00989678],\n",
       "       [-1.1210479 , -0.6228817 , -0.45692557, ..., -0.01722261,\n",
       "        -0.01970084, -0.00989678],\n",
       "       ...,\n",
       "       [-0.859164  , -0.26704076, -0.14022474, ..., -0.01722261,\n",
       "        -0.01970084, -0.00989678],\n",
       "       [-0.86036605, -0.2690505 , -0.1420888 , ..., -0.01722261,\n",
       "        -0.01970084, -0.00989678],\n",
       "       [-0.5459602 , -0.45955008, -0.3774244 , ..., -0.01722261,\n",
       "        -0.01970084, -0.00989678]], dtype=float32)"
      ]
     },
     "execution_count": 18,
     "metadata": {},
     "output_type": "execute_result"
    }
   ],
   "source": [
    "X_Train_scaled"
   ]
  },
  {
   "cell_type": "code",
   "execution_count": 19,
   "id": "7ce4f9d6",
   "metadata": {},
   "outputs": [],
   "source": [
    "#loading the features names\n",
    "\n",
    "feature_names = np.genfromtxt(\"ember_2381_feature_names.txt\", delimiter=\",\", dtype='str', comments=\"!#\", invalid_raise=False)"
   ]
  },
  {
   "cell_type": "code",
   "execution_count": 20,
   "id": "9a1b9b7e",
   "metadata": {},
   "outputs": [],
   "source": [
    "feature_names_df = pd.DataFrame(feature_names)"
   ]
  },
  {
   "cell_type": "code",
   "execution_count": 21,
   "id": "d48fab9b",
   "metadata": {},
   "outputs": [
    {
     "data": {
      "text/html": [
       "<div>\n",
       "<style scoped>\n",
       "    .dataframe tbody tr th:only-of-type {\n",
       "        vertical-align: middle;\n",
       "    }\n",
       "\n",
       "    .dataframe tbody tr th {\n",
       "        vertical-align: top;\n",
       "    }\n",
       "\n",
       "    .dataframe thead th {\n",
       "        text-align: right;\n",
       "    }\n",
       "</style>\n",
       "<table border=\"1\" class=\"dataframe\">\n",
       "  <thead>\n",
       "    <tr style=\"text-align: right;\">\n",
       "      <th></th>\n",
       "      <th>0</th>\n",
       "    </tr>\n",
       "  </thead>\n",
       "  <tbody>\n",
       "    <tr>\n",
       "      <th>0</th>\n",
       "      <td>ByteHistorgram-0</td>\n",
       "    </tr>\n",
       "    <tr>\n",
       "      <th>1</th>\n",
       "      <td>ByteHistorgram-1</td>\n",
       "    </tr>\n",
       "    <tr>\n",
       "      <th>2</th>\n",
       "      <td>ByteHistorgram-2</td>\n",
       "    </tr>\n",
       "    <tr>\n",
       "      <th>3</th>\n",
       "      <td>ByteHistorgram-3</td>\n",
       "    </tr>\n",
       "    <tr>\n",
       "      <th>4</th>\n",
       "      <td>ByteHistorgram-4</td>\n",
       "    </tr>\n",
       "    <tr>\n",
       "      <th>...</th>\n",
       "      <td>...</td>\n",
       "    </tr>\n",
       "    <tr>\n",
       "      <th>2377</th>\n",
       "      <td>size of data directories - 13</td>\n",
       "    </tr>\n",
       "    <tr>\n",
       "      <th>2378</th>\n",
       "      <td>virtual size of data directories - 13</td>\n",
       "    </tr>\n",
       "    <tr>\n",
       "      <th>2379</th>\n",
       "      <td>size of data directories - 14</td>\n",
       "    </tr>\n",
       "    <tr>\n",
       "      <th>2380</th>\n",
       "      <td>virtual size of data directories - 14</td>\n",
       "    </tr>\n",
       "    <tr>\n",
       "      <th>2381</th>\n",
       "      <td>labels</td>\n",
       "    </tr>\n",
       "  </tbody>\n",
       "</table>\n",
       "<p>2382 rows × 1 columns</p>\n",
       "</div>"
      ],
      "text/plain": [
       "                                          0\n",
       "0                          ByteHistorgram-0\n",
       "1                          ByteHistorgram-1\n",
       "2                          ByteHistorgram-2\n",
       "3                          ByteHistorgram-3\n",
       "4                          ByteHistorgram-4\n",
       "...                                     ...\n",
       "2377          size of data directories - 13\n",
       "2378  virtual size of data directories - 13\n",
       "2379          size of data directories - 14\n",
       "2380  virtual size of data directories - 14\n",
       "2381                                 labels\n",
       "\n",
       "[2382 rows x 1 columns]"
      ]
     },
     "execution_count": 21,
     "metadata": {},
     "output_type": "execute_result"
    }
   ],
   "source": [
    "feature_names_df"
   ]
  },
  {
   "cell_type": "code",
   "execution_count": 22,
   "id": "43c60bdf",
   "metadata": {},
   "outputs": [],
   "source": [
    "feature_names_df = feature_names_df.drop(2381, axis=0)"
   ]
  },
  {
   "cell_type": "code",
   "execution_count": 23,
   "id": "14584537",
   "metadata": {},
   "outputs": [],
   "source": [
    "X_Train_scaled_df = pd.DataFrame(X_Train_scaled)"
   ]
  },
  {
   "cell_type": "code",
   "execution_count": 24,
   "id": "bfc64b85",
   "metadata": {},
   "outputs": [
    {
     "data": {
      "text/plain": [
       "(100002, 2381)"
      ]
     },
     "execution_count": 24,
     "metadata": {},
     "output_type": "execute_result"
    }
   ],
   "source": [
    "X_Train_scaled_df.shape"
   ]
  },
  {
   "cell_type": "code",
   "execution_count": 25,
   "id": "6d387b28",
   "metadata": {},
   "outputs": [
    {
     "data": {
      "text/plain": [
       "(2381, 1)"
      ]
     },
     "execution_count": 25,
     "metadata": {},
     "output_type": "execute_result"
    }
   ],
   "source": [
    "feature_names_df.shape"
   ]
  },
  {
   "cell_type": "code",
   "execution_count": 26,
   "id": "12811d11",
   "metadata": {},
   "outputs": [],
   "source": [
    "X_Train_scaled_df.columns = feature_names_df"
   ]
  },
  {
   "cell_type": "code",
   "execution_count": 27,
   "id": "63ac7e84",
   "metadata": {},
   "outputs": [
    {
     "data": {
      "text/html": [
       "<div>\n",
       "<style scoped>\n",
       "    .dataframe tbody tr th:only-of-type {\n",
       "        vertical-align: middle;\n",
       "    }\n",
       "\n",
       "    .dataframe tbody tr th {\n",
       "        vertical-align: top;\n",
       "    }\n",
       "\n",
       "    .dataframe thead th {\n",
       "        text-align: right;\n",
       "    }\n",
       "</style>\n",
       "<table border=\"1\" class=\"dataframe\">\n",
       "  <thead>\n",
       "    <tr style=\"text-align: right;\">\n",
       "      <th></th>\n",
       "      <th>(ByteHistorgram-0,)</th>\n",
       "      <th>(ByteHistorgram-1,)</th>\n",
       "      <th>(ByteHistorgram-2,)</th>\n",
       "      <th>(ByteHistorgram-3,)</th>\n",
       "      <th>(ByteHistorgram-4,)</th>\n",
       "      <th>(ByteHistorgram-5,)</th>\n",
       "      <th>(ByteHistorgram-6,)</th>\n",
       "      <th>(ByteHistorgram-7,)</th>\n",
       "      <th>(ByteHistorgram-8,)</th>\n",
       "      <th>(ByteHistorgram-9,)</th>\n",
       "      <th>...</th>\n",
       "      <th>(size of data directories - 10,)</th>\n",
       "      <th>(virtual size of data directories - 10,)</th>\n",
       "      <th>(size of data directories - 11,)</th>\n",
       "      <th>(virtual size of data directories - 11,)</th>\n",
       "      <th>(size of data directories - 12,)</th>\n",
       "      <th>(virtual size of data directories - 12,)</th>\n",
       "      <th>(size of data directories - 13,)</th>\n",
       "      <th>(virtual size of data directories - 13,)</th>\n",
       "      <th>(size of data directories - 14,)</th>\n",
       "      <th>(virtual size of data directories - 14,)</th>\n",
       "    </tr>\n",
       "  </thead>\n",
       "  <tbody>\n",
       "    <tr>\n",
       "      <th>0</th>\n",
       "      <td>0.220380</td>\n",
       "      <td>0.216517</td>\n",
       "      <td>-0.046705</td>\n",
       "      <td>0.360086</td>\n",
       "      <td>1.262473</td>\n",
       "      <td>-0.244623</td>\n",
       "      <td>-0.221849</td>\n",
       "      <td>1.615103</td>\n",
       "      <td>0.721407</td>\n",
       "      <td>-0.407582</td>\n",
       "      <td>...</td>\n",
       "      <td>-0.010556</td>\n",
       "      <td>-0.017393</td>\n",
       "      <td>-0.009475</td>\n",
       "      <td>-0.007212</td>\n",
       "      <td>-0.000545</td>\n",
       "      <td>-0.020493</td>\n",
       "      <td>-0.009734</td>\n",
       "      <td>-0.016179</td>\n",
       "      <td>-0.019701</td>\n",
       "      <td>-0.009897</td>\n",
       "    </tr>\n",
       "    <tr>\n",
       "      <th>1</th>\n",
       "      <td>-0.060718</td>\n",
       "      <td>2.734060</td>\n",
       "      <td>-0.016928</td>\n",
       "      <td>0.103153</td>\n",
       "      <td>0.027507</td>\n",
       "      <td>12.752135</td>\n",
       "      <td>0.069001</td>\n",
       "      <td>-0.170490</td>\n",
       "      <td>-0.080976</td>\n",
       "      <td>-0.217947</td>\n",
       "      <td>...</td>\n",
       "      <td>-0.010556</td>\n",
       "      <td>-0.017393</td>\n",
       "      <td>-0.009475</td>\n",
       "      <td>-0.007212</td>\n",
       "      <td>-0.002745</td>\n",
       "      <td>0.462676</td>\n",
       "      <td>-0.009739</td>\n",
       "      <td>-0.017223</td>\n",
       "      <td>-0.019701</td>\n",
       "      <td>-0.009897</td>\n",
       "    </tr>\n",
       "    <tr>\n",
       "      <th>2</th>\n",
       "      <td>-1.121048</td>\n",
       "      <td>-0.622882</td>\n",
       "      <td>-0.456926</td>\n",
       "      <td>-0.255226</td>\n",
       "      <td>-0.333823</td>\n",
       "      <td>-0.041019</td>\n",
       "      <td>-0.143503</td>\n",
       "      <td>0.098786</td>\n",
       "      <td>-0.486281</td>\n",
       "      <td>0.165894</td>\n",
       "      <td>...</td>\n",
       "      <td>-0.010556</td>\n",
       "      <td>-0.017393</td>\n",
       "      <td>-0.009475</td>\n",
       "      <td>-0.007212</td>\n",
       "      <td>-0.011951</td>\n",
       "      <td>-0.020605</td>\n",
       "      <td>-0.009739</td>\n",
       "      <td>-0.017223</td>\n",
       "      <td>-0.019701</td>\n",
       "      <td>-0.009897</td>\n",
       "    </tr>\n",
       "    <tr>\n",
       "      <th>3</th>\n",
       "      <td>-1.052806</td>\n",
       "      <td>-0.263193</td>\n",
       "      <td>-0.016738</td>\n",
       "      <td>0.152469</td>\n",
       "      <td>0.000846</td>\n",
       "      <td>0.249187</td>\n",
       "      <td>0.270078</td>\n",
       "      <td>0.490345</td>\n",
       "      <td>0.289891</td>\n",
       "      <td>0.340811</td>\n",
       "      <td>...</td>\n",
       "      <td>-0.010554</td>\n",
       "      <td>-0.004244</td>\n",
       "      <td>-0.009475</td>\n",
       "      <td>-0.007212</td>\n",
       "      <td>-0.011951</td>\n",
       "      <td>-0.020605</td>\n",
       "      <td>-0.009739</td>\n",
       "      <td>-0.017223</td>\n",
       "      <td>-0.019701</td>\n",
       "      <td>-0.009897</td>\n",
       "    </tr>\n",
       "    <tr>\n",
       "      <th>4</th>\n",
       "      <td>2.456506</td>\n",
       "      <td>0.243040</td>\n",
       "      <td>-0.642783</td>\n",
       "      <td>-0.524756</td>\n",
       "      <td>-0.405375</td>\n",
       "      <td>-0.583819</td>\n",
       "      <td>-0.581262</td>\n",
       "      <td>0.223031</td>\n",
       "      <td>-0.640932</td>\n",
       "      <td>-0.437929</td>\n",
       "      <td>...</td>\n",
       "      <td>-0.010556</td>\n",
       "      <td>-0.017393</td>\n",
       "      <td>-0.009475</td>\n",
       "      <td>-0.007212</td>\n",
       "      <td>0.107816</td>\n",
       "      <td>0.003653</td>\n",
       "      <td>-0.009739</td>\n",
       "      <td>-0.017223</td>\n",
       "      <td>-0.019701</td>\n",
       "      <td>-0.009897</td>\n",
       "    </tr>\n",
       "  </tbody>\n",
       "</table>\n",
       "<p>5 rows × 2381 columns</p>\n",
       "</div>"
      ],
      "text/plain": [
       "   (ByteHistorgram-0,)  (ByteHistorgram-1,)  (ByteHistorgram-2,)  \\\n",
       "0             0.220380             0.216517            -0.046705   \n",
       "1            -0.060718             2.734060            -0.016928   \n",
       "2            -1.121048            -0.622882            -0.456926   \n",
       "3            -1.052806            -0.263193            -0.016738   \n",
       "4             2.456506             0.243040            -0.642783   \n",
       "\n",
       "   (ByteHistorgram-3,)  (ByteHistorgram-4,)  (ByteHistorgram-5,)  \\\n",
       "0             0.360086             1.262473            -0.244623   \n",
       "1             0.103153             0.027507            12.752135   \n",
       "2            -0.255226            -0.333823            -0.041019   \n",
       "3             0.152469             0.000846             0.249187   \n",
       "4            -0.524756            -0.405375            -0.583819   \n",
       "\n",
       "   (ByteHistorgram-6,)  (ByteHistorgram-7,)  (ByteHistorgram-8,)  \\\n",
       "0            -0.221849             1.615103             0.721407   \n",
       "1             0.069001            -0.170490            -0.080976   \n",
       "2            -0.143503             0.098786            -0.486281   \n",
       "3             0.270078             0.490345             0.289891   \n",
       "4            -0.581262             0.223031            -0.640932   \n",
       "\n",
       "   (ByteHistorgram-9,)  ...  (size of data directories - 10,)  \\\n",
       "0            -0.407582  ...                         -0.010556   \n",
       "1            -0.217947  ...                         -0.010556   \n",
       "2             0.165894  ...                         -0.010556   \n",
       "3             0.340811  ...                         -0.010554   \n",
       "4            -0.437929  ...                         -0.010556   \n",
       "\n",
       "   (virtual size of data directories - 10,)  (size of data directories - 11,)  \\\n",
       "0                                 -0.017393                         -0.009475   \n",
       "1                                 -0.017393                         -0.009475   \n",
       "2                                 -0.017393                         -0.009475   \n",
       "3                                 -0.004244                         -0.009475   \n",
       "4                                 -0.017393                         -0.009475   \n",
       "\n",
       "   (virtual size of data directories - 11,)  (size of data directories - 12,)  \\\n",
       "0                                 -0.007212                         -0.000545   \n",
       "1                                 -0.007212                         -0.002745   \n",
       "2                                 -0.007212                         -0.011951   \n",
       "3                                 -0.007212                         -0.011951   \n",
       "4                                 -0.007212                          0.107816   \n",
       "\n",
       "   (virtual size of data directories - 12,)  (size of data directories - 13,)  \\\n",
       "0                                 -0.020493                         -0.009734   \n",
       "1                                  0.462676                         -0.009739   \n",
       "2                                 -0.020605                         -0.009739   \n",
       "3                                 -0.020605                         -0.009739   \n",
       "4                                  0.003653                         -0.009739   \n",
       "\n",
       "   (virtual size of data directories - 13,)  (size of data directories - 14,)  \\\n",
       "0                                 -0.016179                         -0.019701   \n",
       "1                                 -0.017223                         -0.019701   \n",
       "2                                 -0.017223                         -0.019701   \n",
       "3                                 -0.017223                         -0.019701   \n",
       "4                                 -0.017223                         -0.019701   \n",
       "\n",
       "   (virtual size of data directories - 14,)  \n",
       "0                                 -0.009897  \n",
       "1                                 -0.009897  \n",
       "2                                 -0.009897  \n",
       "3                                 -0.009897  \n",
       "4                                 -0.009897  \n",
       "\n",
       "[5 rows x 2381 columns]"
      ]
     },
     "execution_count": 27,
     "metadata": {},
     "output_type": "execute_result"
    }
   ],
   "source": [
    "X_Train_scaled_df.head()"
   ]
  },
  {
   "cell_type": "code",
   "execution_count": 28,
   "id": "9dc66213",
   "metadata": {},
   "outputs": [
    {
     "data": {
      "text/plain": [
       "VarianceThreshold(threshold=0)"
      ]
     },
     "execution_count": 28,
     "metadata": {},
     "output_type": "execute_result"
    }
   ],
   "source": [
    "from sklearn.feature_selection import VarianceThreshold\n",
    "\n",
    "selector = VarianceThreshold(threshold=0)\n",
    "selector.fit(X_Train_scaled_df)"
   ]
  },
  {
   "cell_type": "code",
   "execution_count": 29,
   "id": "62a4e122",
   "metadata": {},
   "outputs": [
    {
     "data": {
      "text/plain": [
       "2335"
      ]
     },
     "execution_count": 29,
     "metadata": {},
     "output_type": "execute_result"
    }
   ],
   "source": [
    "### Finding non constant features\n",
    "\n",
    "sum(selector.get_support())"
   ]
  },
  {
   "cell_type": "code",
   "execution_count": 31,
   "id": "16881771",
   "metadata": {},
   "outputs": [
    {
     "name": "stdout",
     "output_type": "stream",
     "text": [
      "46\n"
     ]
    }
   ],
   "source": [
    "constant_columns = [column for column in X_Train_scaled_df.columns\n",
    "                    if column not in X_Train_scaled_df.columns[selector.get_support()]]\n",
    "\n",
    "print(len(constant_columns))"
   ]
  },
  {
   "cell_type": "code",
   "execution_count": 32,
   "id": "f2feba7c",
   "metadata": {},
   "outputs": [
    {
     "name": "stdout",
     "output_type": "stream",
     "text": [
      "('hash COFF machine type - 0',)\n",
      "('hash COFF machine type - 9',)\n",
      "('hash COFF characteristics - 1',)\n",
      "('hash optional subsystem - 1',)\n",
      "('hash optional subsystem - 3',)\n",
      "('hash optional subsystem - 5',)\n",
      "('hash optional dll_characteristics - 2',)\n",
      "('hash optional dll_characteristics - 6',)\n",
      "('hash optional dll_characteristics - 9',)\n",
      "('hash optional magic number - 0',)\n",
      "('hash optional magic number - 2',)\n",
      "('hash optional magic number - 3',)\n",
      "('hash optional magic number - 5',)\n",
      "('hash optional magic number - 6',)\n",
      "('hash optional magic number - 7',)\n",
      "('hash optional magic number - 8',)\n",
      "('hash optional magic number - 9',)\n",
      "('hash on name of entry point - 6',)\n",
      "('hash on name of entry point - 16',)\n",
      "('hash on name of entry point - 19',)\n",
      "('hash on name of entry point - 24',)\n",
      "('hash on name of entry point - 40',)\n",
      "('hash on name of entry point - 48',)\n",
      "('hash on list of properties of entry point - 1',)\n",
      "('hash on list of properties of entry point - 3',)\n",
      "('hash on list of properties of entry point - 5',)\n",
      "('hash on list of properties of entry point - 6',)\n",
      "('hash on list of properties of entry point - 7',)\n",
      "('hash on list of properties of entry point - 11',)\n",
      "('hash on list of properties of entry point - 12',)\n",
      "('hash on list of properties of entry point - 15',)\n",
      "('hash on list of properties of entry point - 16',)\n",
      "('hash on list of properties of entry point - 17',)\n",
      "('hash on list of properties of entry point - 19',)\n",
      "('hash on list of properties of entry point - 24',)\n",
      "('hash on list of properties of entry point - 26',)\n",
      "('hash on list of properties of entry point - 27',)\n",
      "('hash on list of properties of entry point - 29',)\n",
      "('hash on list of properties of entry point - 30',)\n",
      "('hash on list of properties of entry point - 31',)\n",
      "('hash on list of properties of entry point - 33',)\n",
      "('hash on list of properties of entry point - 38',)\n",
      "('hash on list of properties of entry point - 39',)\n",
      "('hash on list of properties of entry point - 41',)\n",
      "('hash on list of properties of entry point - 43',)\n",
      "('hash on list of properties of entry point - 44',)\n"
     ]
    }
   ],
   "source": [
    "for column in constant_columns:\n",
    "    print(column)"
   ]
  },
  {
   "cell_type": "code",
   "execution_count": 33,
   "id": "ee34c51f",
   "metadata": {},
   "outputs": [],
   "source": [
    "X_Train_selected_df = X_Train_scaled_df.drop(constant_columns,axis=1)"
   ]
  },
  {
   "cell_type": "code",
   "execution_count": 34,
   "id": "1f7f8cef",
   "metadata": {},
   "outputs": [
    {
     "data": {
      "text/plain": [
       "(100002, 2335)"
      ]
     },
     "execution_count": 34,
     "metadata": {},
     "output_type": "execute_result"
    }
   ],
   "source": [
    "X_Train_selected_df.shape"
   ]
  },
  {
   "cell_type": "code",
   "execution_count": null,
   "id": "2b09ab73",
   "metadata": {},
   "outputs": [],
   "source": []
  },
  {
   "cell_type": "code",
   "execution_count": 30,
   "id": "b24bf62b",
   "metadata": {},
   "outputs": [],
   "source": [
    "import time"
   ]
  },
  {
   "cell_type": "code",
   "execution_count": null,
   "id": "b132a7a4",
   "metadata": {},
   "outputs": [],
   "source": [
    "from sklearn.svm import SVC\n",
    "\n",
    "clf_SVM_Df=SVC(kernel='linear', C=1.0, random_state=0)\n",
    "train0 = time.time()\n",
    "clf_SVM_Df.fit(X_Train_selected_df, y_train.astype(int))\n",
    "train1 = time.time() - train0"
   ]
  },
  {
   "cell_type": "code",
   "execution_count": null,
   "id": "bc457f76",
   "metadata": {},
   "outputs": [],
   "source": []
  }
 ],
 "metadata": {
  "kernelspec": {
   "display_name": "Python 3 (ipykernel)",
   "language": "python",
   "name": "python3"
  },
  "language_info": {
   "codemirror_mode": {
    "name": "ipython",
    "version": 3
   },
   "file_extension": ".py",
   "mimetype": "text/x-python",
   "name": "python",
   "nbconvert_exporter": "python",
   "pygments_lexer": "ipython3",
   "version": "3.9.7"
  }
 },
 "nbformat": 4,
 "nbformat_minor": 5
}
