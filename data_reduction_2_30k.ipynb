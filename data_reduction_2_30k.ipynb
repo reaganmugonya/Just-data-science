{
 "cells": [
  {
   "cell_type": "code",
   "execution_count": 1,
   "id": "8f1b8080",
   "metadata": {},
   "outputs": [],
   "source": [
    "import numpy as np\n",
    "import pandas as pd"
   ]
  },
  {
   "cell_type": "code",
   "execution_count": 2,
   "id": "cb50018e",
   "metadata": {},
   "outputs": [],
   "source": [
    "loaded = np.load('New_Data.npz') "
   ]
  },
  {
   "cell_type": "code",
   "execution_count": 3,
   "id": "a431554d",
   "metadata": {},
   "outputs": [],
   "source": [
    "loaded_1 = np.load('600k_data.npz')"
   ]
  },
  {
   "cell_type": "code",
   "execution_count": 4,
   "id": "1df392a1",
   "metadata": {},
   "outputs": [
    {
     "data": {
      "text/plain": [
       "['arr_0', 'arr_1']"
      ]
     },
     "execution_count": 4,
     "metadata": {},
     "output_type": "execute_result"
    }
   ],
   "source": [
    "loaded.files"
   ]
  },
  {
   "cell_type": "code",
   "execution_count": 5,
   "id": "5b6a9686",
   "metadata": {},
   "outputs": [
    {
     "data": {
      "text/plain": [
       "['arr_0']"
      ]
     },
     "execution_count": 5,
     "metadata": {},
     "output_type": "execute_result"
    }
   ],
   "source": [
    "loaded_1.files"
   ]
  },
  {
   "cell_type": "code",
   "execution_count": 6,
   "id": "7220d5d6",
   "metadata": {},
   "outputs": [],
   "source": [
    "#extract train dataset\n",
    "Train_Data = loaded_1['arr_0']"
   ]
  },
  {
   "cell_type": "code",
   "execution_count": 7,
   "id": "7e569337",
   "metadata": {},
   "outputs": [
    {
     "data": {
      "text/plain": [
       "(600000, 2382)"
      ]
     },
     "execution_count": 7,
     "metadata": {},
     "output_type": "execute_result"
    }
   ],
   "source": [
    "Train_Data.shape"
   ]
  },
  {
   "cell_type": "code",
   "execution_count": 9,
   "id": "8265f749",
   "metadata": {},
   "outputs": [],
   "source": [
    "Train_Data_df = pd.DataFrame(Train_Data)"
   ]
  },
  {
   "cell_type": "code",
   "execution_count": 10,
   "id": "79507fd6",
   "metadata": {},
   "outputs": [
    {
     "data": {
      "text/html": [
       "<div>\n",
       "<style scoped>\n",
       "    .dataframe tbody tr th:only-of-type {\n",
       "        vertical-align: middle;\n",
       "    }\n",
       "\n",
       "    .dataframe tbody tr th {\n",
       "        vertical-align: top;\n",
       "    }\n",
       "\n",
       "    .dataframe thead th {\n",
       "        text-align: right;\n",
       "    }\n",
       "</style>\n",
       "<table border=\"1\" class=\"dataframe\">\n",
       "  <thead>\n",
       "    <tr style=\"text-align: right;\">\n",
       "      <th></th>\n",
       "      <th>0</th>\n",
       "      <th>1</th>\n",
       "      <th>2</th>\n",
       "      <th>3</th>\n",
       "      <th>4</th>\n",
       "      <th>5</th>\n",
       "      <th>6</th>\n",
       "      <th>7</th>\n",
       "      <th>8</th>\n",
       "      <th>9</th>\n",
       "      <th>...</th>\n",
       "      <th>2372</th>\n",
       "      <th>2373</th>\n",
       "      <th>2374</th>\n",
       "      <th>2375</th>\n",
       "      <th>2376</th>\n",
       "      <th>2377</th>\n",
       "      <th>2378</th>\n",
       "      <th>2379</th>\n",
       "      <th>2380</th>\n",
       "      <th>2381</th>\n",
       "    </tr>\n",
       "  </thead>\n",
       "  <tbody>\n",
       "    <tr>\n",
       "      <th>0</th>\n",
       "      <td>0.014676</td>\n",
       "      <td>0.004222</td>\n",
       "      <td>0.003923</td>\n",
       "      <td>0.004029</td>\n",
       "      <td>0.004007</td>\n",
       "      <td>0.003775</td>\n",
       "      <td>0.003825</td>\n",
       "      <td>0.003887</td>\n",
       "      <td>0.004153</td>\n",
       "      <td>0.003804</td>\n",
       "      <td>...</td>\n",
       "      <td>35240.0</td>\n",
       "      <td>0.0</td>\n",
       "      <td>0.0</td>\n",
       "      <td>660.0</td>\n",
       "      <td>32768.0</td>\n",
       "      <td>0.0</td>\n",
       "      <td>0.0</td>\n",
       "      <td>0.0</td>\n",
       "      <td>0.0</td>\n",
       "      <td>0.0</td>\n",
       "    </tr>\n",
       "    <tr>\n",
       "      <th>1</th>\n",
       "      <td>0.184524</td>\n",
       "      <td>0.031308</td>\n",
       "      <td>0.005693</td>\n",
       "      <td>0.005959</td>\n",
       "      <td>0.008144</td>\n",
       "      <td>0.003512</td>\n",
       "      <td>0.005786</td>\n",
       "      <td>0.008550</td>\n",
       "      <td>0.009141</td>\n",
       "      <td>0.001791</td>\n",
       "      <td>...</td>\n",
       "      <td>92936.0</td>\n",
       "      <td>408.0</td>\n",
       "      <td>608.0</td>\n",
       "      <td>2604.0</td>\n",
       "      <td>4096.0</td>\n",
       "      <td>224.0</td>\n",
       "      <td>442296.0</td>\n",
       "      <td>0.0</td>\n",
       "      <td>0.0</td>\n",
       "      <td>0.0</td>\n",
       "    </tr>\n",
       "    <tr>\n",
       "      <th>2</th>\n",
       "      <td>0.251737</td>\n",
       "      <td>0.014205</td>\n",
       "      <td>0.006841</td>\n",
       "      <td>0.008556</td>\n",
       "      <td>0.023493</td>\n",
       "      <td>0.002858</td>\n",
       "      <td>0.003401</td>\n",
       "      <td>0.008556</td>\n",
       "      <td>0.010215</td>\n",
       "      <td>0.001176</td>\n",
       "      <td>...</td>\n",
       "      <td>0.0</td>\n",
       "      <td>0.0</td>\n",
       "      <td>0.0</td>\n",
       "      <td>1120.0</td>\n",
       "      <td>4096.0</td>\n",
       "      <td>192.0</td>\n",
       "      <td>37280.0</td>\n",
       "      <td>0.0</td>\n",
       "      <td>0.0</td>\n",
       "      <td>0.0</td>\n",
       "    </tr>\n",
       "    <tr>\n",
       "      <th>3</th>\n",
       "      <td>0.008964</td>\n",
       "      <td>0.004055</td>\n",
       "      <td>0.003925</td>\n",
       "      <td>0.003936</td>\n",
       "      <td>0.004037</td>\n",
       "      <td>0.003878</td>\n",
       "      <td>0.003847</td>\n",
       "      <td>0.003946</td>\n",
       "      <td>0.003939</td>\n",
       "      <td>0.003834</td>\n",
       "      <td>...</td>\n",
       "      <td>0.0</td>\n",
       "      <td>0.0</td>\n",
       "      <td>0.0</td>\n",
       "      <td>0.0</td>\n",
       "      <td>0.0</td>\n",
       "      <td>0.0</td>\n",
       "      <td>0.0</td>\n",
       "      <td>0.0</td>\n",
       "      <td>0.0</td>\n",
       "      <td>0.0</td>\n",
       "    </tr>\n",
       "    <tr>\n",
       "      <th>4</th>\n",
       "      <td>0.020401</td>\n",
       "      <td>0.005213</td>\n",
       "      <td>0.004519</td>\n",
       "      <td>0.004097</td>\n",
       "      <td>0.004240</td>\n",
       "      <td>0.004029</td>\n",
       "      <td>0.003785</td>\n",
       "      <td>0.004593</td>\n",
       "      <td>0.004875</td>\n",
       "      <td>0.003780</td>\n",
       "      <td>...</td>\n",
       "      <td>0.0</td>\n",
       "      <td>0.0</td>\n",
       "      <td>0.0</td>\n",
       "      <td>520.0</td>\n",
       "      <td>4096.0</td>\n",
       "      <td>0.0</td>\n",
       "      <td>0.0</td>\n",
       "      <td>0.0</td>\n",
       "      <td>0.0</td>\n",
       "      <td>0.0</td>\n",
       "    </tr>\n",
       "  </tbody>\n",
       "</table>\n",
       "<p>5 rows × 2382 columns</p>\n",
       "</div>"
      ],
      "text/plain": [
       "       0         1         2         3         4         5         6     \\\n",
       "0  0.014676  0.004222  0.003923  0.004029  0.004007  0.003775  0.003825   \n",
       "1  0.184524  0.031308  0.005693  0.005959  0.008144  0.003512  0.005786   \n",
       "2  0.251737  0.014205  0.006841  0.008556  0.023493  0.002858  0.003401   \n",
       "3  0.008964  0.004055  0.003925  0.003936  0.004037  0.003878  0.003847   \n",
       "4  0.020401  0.005213  0.004519  0.004097  0.004240  0.004029  0.003785   \n",
       "\n",
       "       7         8         9     ...     2372   2373   2374    2375     2376  \\\n",
       "0  0.003887  0.004153  0.003804  ...  35240.0    0.0    0.0   660.0  32768.0   \n",
       "1  0.008550  0.009141  0.001791  ...  92936.0  408.0  608.0  2604.0   4096.0   \n",
       "2  0.008556  0.010215  0.001176  ...      0.0    0.0    0.0  1120.0   4096.0   \n",
       "3  0.003946  0.003939  0.003834  ...      0.0    0.0    0.0     0.0      0.0   \n",
       "4  0.004593  0.004875  0.003780  ...      0.0    0.0    0.0   520.0   4096.0   \n",
       "\n",
       "    2377      2378  2379  2380  2381  \n",
       "0    0.0       0.0   0.0   0.0   0.0  \n",
       "1  224.0  442296.0   0.0   0.0   0.0  \n",
       "2  192.0   37280.0   0.0   0.0   0.0  \n",
       "3    0.0       0.0   0.0   0.0   0.0  \n",
       "4    0.0       0.0   0.0   0.0   0.0  \n",
       "\n",
       "[5 rows x 2382 columns]"
      ]
     },
     "execution_count": 10,
     "metadata": {},
     "output_type": "execute_result"
    }
   ],
   "source": [
    "Train_Data_df.head()"
   ]
  },
  {
   "cell_type": "code",
   "execution_count": 12,
   "id": "c8004c37",
   "metadata": {},
   "outputs": [
    {
     "data": {
      "text/plain": [
       "0.0    300000\n",
       "1.0    300000\n",
       "Name: 2381, dtype: int64"
      ]
     },
     "execution_count": 12,
     "metadata": {},
     "output_type": "execute_result"
    }
   ],
   "source": [
    "Train_Data_df[2381].value_counts()"
   ]
  },
  {
   "cell_type": "code",
   "execution_count": 13,
   "id": "93b45545",
   "metadata": {},
   "outputs": [
    {
     "data": {
      "text/plain": [
       "<AxesSubplot:>"
      ]
     },
     "execution_count": 13,
     "metadata": {},
     "output_type": "execute_result"
    },
    {
     "data": {
      "image/png": "[encoded data removed]",
      "text/plain": [
       "<Figure size 432x288 with 1 Axes>"
      ]
     },
     "metadata": {
      "needs_background": "light"
     },
     "output_type": "display_data"
    }
   ],
   "source": [
    "Train_Data_df[2381].value_counts().plot(kind='barh')"
   ]
  },
  {
   "cell_type": "code",
   "execution_count": 14,
   "id": "de952114",
   "metadata": {},
   "outputs": [],
   "source": [
    "# Creating a dataframe with 95%\n",
    "# values of original dataframe\n",
    "\n",
    "Train_Data_df_95_per = Train_Data_df.sample(frac = 0.95)"
   ]
  },
  {
   "cell_type": "code",
   "execution_count": 15,
   "id": "d8a907a4",
   "metadata": {},
   "outputs": [],
   "source": [
    "Train_Data_df_5_per = Train_Data_df.drop(Train_Data_df_95_per)"
   ]
  },
  {
   "cell_type": "code",
   "execution_count": 16,
   "id": "b03157a1",
   "metadata": {},
   "outputs": [
    {
     "data": {
      "text/plain": [
       "1.0    300000\n",
       "0.0    297618\n",
       "Name: 2381, dtype: int64"
      ]
     },
     "execution_count": 16,
     "metadata": {},
     "output_type": "execute_result"
    }
   ],
   "source": [
    "Train_Data_df_5_per[2381].value_counts()"
   ]
  },
  {
   "cell_type": "code",
   "execution_count": 17,
   "id": "d7c31cd8",
   "metadata": {},
   "outputs": [
    {
     "data": {
      "text/plain": [
       "1.0    285041\n",
       "0.0    284959\n",
       "Name: 2381, dtype: int64"
      ]
     },
     "execution_count": 17,
     "metadata": {},
     "output_type": "execute_result"
    }
   ],
   "source": [
    "Train_Data_df_95_per[2381].value_counts()"
   ]
  },
  {
   "cell_type": "code",
   "execution_count": 18,
   "id": "ad0e2065",
   "metadata": {},
   "outputs": [],
   "source": [
    "Train_Data_df_5_per = Train_Data_df.drop(Train_Data_df_95_per.index)"
   ]
  },
  {
   "cell_type": "code",
   "execution_count": 19,
   "id": "bff70eaa",
   "metadata": {},
   "outputs": [
    {
     "data": {
      "text/plain": [
       "0.0    15041\n",
       "1.0    14959\n",
       "Name: 2381, dtype: int64"
      ]
     },
     "execution_count": 19,
     "metadata": {},
     "output_type": "execute_result"
    }
   ],
   "source": [
    "Train_Data_df_5_per[2381].value_counts()"
   ]
  },
  {
   "cell_type": "code",
   "execution_count": 20,
   "id": "b76c2d89",
   "metadata": {},
   "outputs": [],
   "source": [
    "Train_Data_df_5_per_np = Train_Data_df_5_per.to_numpy()"
   ]
  },
  {
   "cell_type": "code",
   "execution_count": 21,
   "id": "2013ede7",
   "metadata": {},
   "outputs": [],
   "source": [
    "np.savez_compressed('30k_data', Train_Data_df_5_per_np)"
   ]
  },
  {
   "cell_type": "code",
   "execution_count": null,
   "id": "a4404d4a",
   "metadata": {},
   "outputs": [],
   "source": []
  }
 ],
 "metadata": {
  "kernelspec": {
   "display_name": "Python 3 (ipykernel)",
   "language": "python",
   "name": "python3"
  },
  "language_info": {
   "codemirror_mode": {
    "name": "ipython",
    "version": 3
   },
   "file_extension": ".py",
   "mimetype": "text/x-python",
   "name": "python",
   "nbconvert_exporter": "python",
   "pygments_lexer": "ipython3",
   "version": "3.9.7"
  }
 },
 "nbformat": 4,
 "nbformat_minor": 5
}
