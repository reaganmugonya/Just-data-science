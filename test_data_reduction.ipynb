{
 "cells": [
  {
   "cell_type": "code",
   "execution_count": 1,
   "id": "8f1b8080",
   "metadata": {},
   "outputs": [],
   "source": [
    "import numpy as np\n",
    "import pandas as pd"
   ]
  },
  {
   "cell_type": "code",
   "execution_count": 2,
   "id": "cb50018e",
   "metadata": {},
   "outputs": [],
   "source": [
    "loaded = np.load('New_Data.npz') "
   ]
  },
  {
   "cell_type": "code",
   "execution_count": 3,
   "id": "1df392a1",
   "metadata": {},
   "outputs": [
    {
     "data": {
      "text/plain": [
       "['arr_0', 'arr_1']"
      ]
     },
     "execution_count": 3,
     "metadata": {},
     "output_type": "execute_result"
    }
   ],
   "source": [
    "loaded.files"
   ]
  },
  {
   "cell_type": "code",
   "execution_count": 4,
   "id": "7220d5d6",
   "metadata": {},
   "outputs": [],
   "source": [
    "#extract test dataset\n",
    "Test_Data = loaded['arr_1']"
   ]
  },
  {
   "cell_type": "code",
   "execution_count": 5,
   "id": "7e569337",
   "metadata": {},
   "outputs": [
    {
     "data": {
      "text/plain": [
       "(200000, 2382)"
      ]
     },
     "execution_count": 5,
     "metadata": {},
     "output_type": "execute_result"
    }
   ],
   "source": [
    "Test_Data.shape"
   ]
  },
  {
   "cell_type": "code",
   "execution_count": 6,
   "id": "8265f749",
   "metadata": {},
   "outputs": [],
   "source": [
    "Test_Data_df = pd.DataFrame(Test_Data)"
   ]
  },
  {
   "cell_type": "code",
   "execution_count": 7,
   "id": "c8004c37",
   "metadata": {},
   "outputs": [
    {
     "data": {
      "text/plain": [
       "1.0    100000\n",
       "0.0    100000\n",
       "Name: 2381, dtype: int64"
      ]
     },
     "execution_count": 7,
     "metadata": {},
     "output_type": "execute_result"
    }
   ],
   "source": [
    "Test_Data_df[2381].value_counts()"
   ]
  },
  {
   "cell_type": "code",
   "execution_count": 8,
   "id": "de952114",
   "metadata": {},
   "outputs": [],
   "source": [
    "# Creating a dataframe with 85%\n",
    "# values of original dataframe\n",
    "\n",
    "Test_Data_df_85_per = Test_Data_df.sample(frac = 0.85)"
   ]
  },
  {
   "cell_type": "code",
   "execution_count": 9,
   "id": "d8a907a4",
   "metadata": {},
   "outputs": [],
   "source": [
    "Test_Data_df_15_per = Test_Data_df.drop(Test_Data_df_85_per.index)"
   ]
  },
  {
   "cell_type": "code",
   "execution_count": 10,
   "id": "b03157a1",
   "metadata": {},
   "outputs": [
    {
     "data": {
      "text/plain": [
       "0.0    15039\n",
       "1.0    14961\n",
       "Name: 2381, dtype: int64"
      ]
     },
     "execution_count": 10,
     "metadata": {},
     "output_type": "execute_result"
    }
   ],
   "source": [
    "Test_Data_df_15_per[2381].value_counts()"
   ]
  },
  {
   "cell_type": "code",
   "execution_count": 11,
   "id": "d7c31cd8",
   "metadata": {},
   "outputs": [],
   "source": [
    "# Creating a dataframe with 95%\n",
    "# values of original dataframe\n",
    "\n",
    "Test_Data_df_95_per = Test_Data_df.sample(frac = 0.95)"
   ]
  },
  {
   "cell_type": "code",
   "execution_count": 12,
   "id": "1c687088",
   "metadata": {},
   "outputs": [],
   "source": [
    "Test_Data_df_5_per = Test_Data_df.drop(Test_Data_df_95_per.index)"
   ]
  },
  {
   "cell_type": "code",
   "execution_count": 13,
   "id": "883fb1ec",
   "metadata": {},
   "outputs": [
    {
     "data": {
      "text/plain": [
       "0.0    5049\n",
       "1.0    4951\n",
       "Name: 2381, dtype: int64"
      ]
     },
     "execution_count": 13,
     "metadata": {},
     "output_type": "execute_result"
    }
   ],
   "source": [
    "Test_Data_df_5_per[2381].value_counts()"
   ]
  },
  {
   "cell_type": "code",
   "execution_count": 17,
   "id": "b76c2d89",
   "metadata": {},
   "outputs": [],
   "source": [
    "Test_Data_df_5_per_np = Test_Data_df_5_per.to_numpy()\n",
    "\n",
    "Test_Data_df_15_per_np = Test_Data_df_15_per.to_numpy()"
   ]
  },
  {
   "cell_type": "code",
   "execution_count": 18,
   "id": "2013ede7",
   "metadata": {},
   "outputs": [],
   "source": [
    "np.savez_compressed('10k_test_data', Test_Data_df_5_per_np)\n",
    "\n",
    "np.savez_compressed('30k_test_data', Test_Data_df_15_per_np)"
   ]
  },
  {
   "cell_type": "code",
   "execution_count": null,
   "id": "a4404d4a",
   "metadata": {},
   "outputs": [],
   "source": []
  }
 ],
 "metadata": {
  "kernelspec": {
   "display_name": "Python 3 (ipykernel)",
   "language": "python",
   "name": "python3"
  },
  "language_info": {
   "codemirror_mode": {
    "name": "ipython",
    "version": 3
   },
   "file_extension": ".py",
   "mimetype": "text/x-python",
   "name": "python",
   "nbconvert_exporter": "python",
   "pygments_lexer": "ipython3",
   "version": "3.9.7"
  }
 },
 "nbformat": 4,
 "nbformat_minor": 5
}
