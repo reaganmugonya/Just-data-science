{
 "cells": [
  {
   "cell_type": "code",
   "execution_count": 1,
   "id": "13e9568d",
   "metadata": {},
   "outputs": [],
   "source": [
    "import ember\n"
   ]
  },
  {
   "cell_type": "code",
   "execution_count": 2,
   "id": "5239ca01",
   "metadata": {},
   "outputs": [],
   "source": [
    "data_dir = \"ember2018\" #path for the data\n"
   ]
  },
  {
   "cell_type": "code",
   "execution_count": 3,
   "id": "9aaac579",
   "metadata": {},
   "outputs": [
    {
     "name": "stdout",
     "output_type": "stream",
     "text": [
      "WARNING: EMBER feature version 2 were computed using lief version 0.9.0-\n",
      "WARNING:   lief version 0.12.1-c7b3ce3b found instead. There may be slight inconsistencies\n",
      "WARNING:   in the feature calculations.\n",
      "Vectorizing training set\n"
     ]
    },
    {
     "name": "stderr",
     "output_type": "stream",
     "text": [
      "100%|█████████████████████████████████████████████████████████████████████████| 800000/800000 [22:42<00:00, 587.25it/s]\n"
     ]
    },
    {
     "name": "stdout",
     "output_type": "stream",
     "text": [
      "Vectorizing test set\n"
     ]
    },
    {
     "name": "stderr",
     "output_type": "stream",
     "text": [
      "100%|█████████████████████████████████████████████████████████████████████████| 200000/200000 [06:15<00:00, 533.22it/s]\n"
     ]
    }
   ],
   "source": [
    "ember.create_vectorized_features(data_dir)\n",
    "_ = ember.create_metadata(data_dir)"
   ]
  },
  {
   "cell_type": "code",
   "execution_count": 4,
   "id": "e42b8e49",
   "metadata": {},
   "outputs": [
    {
     "name": "stdout",
     "output_type": "stream",
     "text": [
      "WARNING: EMBER feature version 2 were computed using lief version 0.9.0-\n",
      "WARNING:   lief version 0.12.1-c7b3ce3b found instead. There may be slight inconsistencies\n",
      "WARNING:   in the feature calculations.\n"
     ]
    }
   ],
   "source": [
    "X_train, y_train, X_test, y_test = ember.read_vectorized_features(data_dir)   "
   ]
  },
  {
   "cell_type": "code",
   "execution_count": 5,
   "id": "9f698b69",
   "metadata": {},
   "outputs": [
    {
     "data": {
      "text/plain": [
       "memmap([[1.4676122e-02, 4.2218715e-03, 3.9226813e-03, ..., 0.0000000e+00,\n",
       "         0.0000000e+00, 0.0000000e+00],\n",
       "        [1.8452372e-01, 3.1307504e-02, 5.6928140e-03, ..., 4.4229600e+05,\n",
       "         0.0000000e+00, 0.0000000e+00],\n",
       "        [2.5173673e-01, 1.4204546e-02, 6.8414863e-03, ..., 3.7280000e+04,\n",
       "         0.0000000e+00, 0.0000000e+00],\n",
       "        ...,\n",
       "        [1.4297070e-01, 8.6626979e-03, 4.2015705e-03, ..., 0.0000000e+00,\n",
       "         0.0000000e+00, 0.0000000e+00],\n",
       "        [1.4780925e-01, 6.4021470e-03, 5.1157344e-03, ..., 0.0000000e+00,\n",
       "         0.0000000e+00, 0.0000000e+00],\n",
       "        [1.3445158e-01, 6.8144272e-03, 5.5496283e-03, ..., 0.0000000e+00,\n",
       "         0.0000000e+00, 0.0000000e+00]], dtype=float32)"
      ]
     },
     "execution_count": 5,
     "metadata": {},
     "output_type": "execute_result"
    }
   ],
   "source": [
    "X_train  #view the training data"
   ]
  },
  {
   "cell_type": "code",
   "execution_count": 6,
   "id": "428a5e1b",
   "metadata": {},
   "outputs": [
    {
     "data": {
      "text/plain": [
       "(800000, 2381)"
      ]
     },
     "execution_count": 6,
     "metadata": {},
     "output_type": "execute_result"
    }
   ],
   "source": [
    "X_train.shape   # size of the  data training"
   ]
  },
  {
   "cell_type": "code",
   "execution_count": 7,
   "id": "562722cc",
   "metadata": {},
   "outputs": [
    {
     "data": {
      "text/plain": [
       "(800000,)"
      ]
     },
     "execution_count": 7,
     "metadata": {},
     "output_type": "execute_result"
    }
   ],
   "source": [
    "y_train.shape"
   ]
  },
  {
   "cell_type": "code",
   "execution_count": 8,
   "id": "30817864",
   "metadata": {},
   "outputs": [],
   "source": [
    "import numpy as np"
   ]
  },
  {
   "cell_type": "code",
   "execution_count": 9,
   "id": "bef2a0c6",
   "metadata": {},
   "outputs": [],
   "source": [
    "new_array = np.concatenate((X_train, X_test), axis=0)    #Creating a single dataset from both the training and testing data"
   ]
  },
  {
   "cell_type": "code",
   "execution_count": 10,
   "id": "e387bd82",
   "metadata": {},
   "outputs": [
    {
     "data": {
      "text/plain": [
       "array([[1.4676122e-02, 4.2218715e-03, 3.9226813e-03, ..., 0.0000000e+00,\n",
       "        0.0000000e+00, 0.0000000e+00],\n",
       "       [1.8452372e-01, 3.1307504e-02, 5.6928140e-03, ..., 4.4229600e+05,\n",
       "        0.0000000e+00, 0.0000000e+00],\n",
       "       [2.5173673e-01, 1.4204546e-02, 6.8414863e-03, ..., 3.7280000e+04,\n",
       "        0.0000000e+00, 0.0000000e+00],\n",
       "       ...,\n",
       "       [1.6285709e-01, 7.4037062e-03, 2.9943257e-03, ..., 0.0000000e+00,\n",
       "        0.0000000e+00, 0.0000000e+00],\n",
       "       [2.3282295e-01, 2.1358723e-02, 1.0550695e-02, ..., 0.0000000e+00,\n",
       "        7.2000000e+01, 8.2000000e+03],\n",
       "       [4.9441105e-01, 4.2067310e-03, 2.0582932e-03, ..., 0.0000000e+00,\n",
       "        0.0000000e+00, 0.0000000e+00]], dtype=float32)"
      ]
     },
     "execution_count": 10,
     "metadata": {},
     "output_type": "execute_result"
    }
   ],
   "source": [
    "new_array"
   ]
  },
  {
   "cell_type": "code",
   "execution_count": 11,
   "id": "98139f90",
   "metadata": {},
   "outputs": [
    {
     "data": {
      "text/plain": [
       "(1000000, 2381)"
      ]
     },
     "execution_count": 11,
     "metadata": {},
     "output_type": "execute_result"
    }
   ],
   "source": [
    "new_array.shape"
   ]
  },
  {
   "cell_type": "code",
   "execution_count": 12,
   "id": "26c81859",
   "metadata": {},
   "outputs": [],
   "source": [
    "new_array_y = np.concatenate((y_train, y_test), axis=0)   #Creating a single vector for the labels"
   ]
  },
  {
   "cell_type": "code",
   "execution_count": 13,
   "id": "34eb87bb",
   "metadata": {},
   "outputs": [
    {
     "data": {
      "text/plain": [
       "array([0., 0., 0., ..., 0., 0., 1.], dtype=float32)"
      ]
     },
     "execution_count": 13,
     "metadata": {},
     "output_type": "execute_result"
    }
   ],
   "source": [
    "new_array_y"
   ]
  },
  {
   "cell_type": "code",
   "execution_count": 14,
   "id": "c00cdde8",
   "metadata": {},
   "outputs": [
    {
     "data": {
      "text/plain": [
       "(1000000,)"
      ]
     },
     "execution_count": 14,
     "metadata": {},
     "output_type": "execute_result"
    }
   ],
   "source": [
    "new_array_y.shape"
   ]
  },
  {
   "cell_type": "code",
   "execution_count": 15,
   "id": "b8307ca0",
   "metadata": {},
   "outputs": [
    {
     "data": {
      "text/plain": [
       "array([-1.,  0.,  1.], dtype=float32)"
      ]
     },
     "execution_count": 15,
     "metadata": {},
     "output_type": "execute_result"
    }
   ],
   "source": [
    "np.unique(new_array_y)   #return unique values"
   ]
  },
  {
   "cell_type": "code",
   "execution_count": 16,
   "id": "b1d389ec",
   "metadata": {},
   "outputs": [
    {
     "data": {
      "text/plain": [
       "array([[-1.e+00,  2.e+05],\n",
       "       [ 0.e+00,  4.e+05],\n",
       "       [ 1.e+00,  4.e+05]])"
      ]
     },
     "execution_count": 16,
     "metadata": {},
     "output_type": "execute_result"
    }
   ],
   "source": [
    "(unique, counts) = np.unique(new_array_y, return_counts=True)     #return unique values and count\n",
    "frequencies = np.asarray((unique, counts)).T\n",
    "\n",
    "frequencies"
   ]
  },
  {
   "cell_type": "code",
   "execution_count": 17,
   "id": "769ba7f1",
   "metadata": {},
   "outputs": [],
   "source": [
    "import numpy as np\n",
    "import pandas as pd"
   ]
  },
  {
   "cell_type": "code",
   "execution_count": 18,
   "id": "30b7b84f",
   "metadata": {},
   "outputs": [],
   "source": [
    "X_train_data = pd.DataFrame(X_train)   #converting the array to dataframes"
   ]
  },
  {
   "cell_type": "code",
   "execution_count": 19,
   "id": "079b131c",
   "metadata": {},
   "outputs": [],
   "source": [
    "Y_train_data = pd.DataFrame(y_train)"
   ]
  },
  {
   "cell_type": "code",
   "execution_count": 20,
   "id": "f3b44643",
   "metadata": {},
   "outputs": [],
   "source": [
    "X_test_data = pd.DataFrame(X_test)"
   ]
  },
  {
   "cell_type": "code",
   "execution_count": 21,
   "id": "fc6b6643",
   "metadata": {},
   "outputs": [],
   "source": [
    "Y_test_data = pd.DataFrame(y_test)"
   ]
  },
  {
   "cell_type": "code",
   "execution_count": 22,
   "id": "0a0cb612",
   "metadata": {},
   "outputs": [
    {
     "data": {
      "text/html": [
       "<div>\n",
       "<style scoped>\n",
       "    .dataframe tbody tr th:only-of-type {\n",
       "        vertical-align: middle;\n",
       "    }\n",
       "\n",
       "    .dataframe tbody tr th {\n",
       "        vertical-align: top;\n",
       "    }\n",
       "\n",
       "    .dataframe thead th {\n",
       "        text-align: right;\n",
       "    }\n",
       "</style>\n",
       "<table border=\"1\" class=\"dataframe\">\n",
       "  <thead>\n",
       "    <tr style=\"text-align: right;\">\n",
       "      <th></th>\n",
       "      <th>0</th>\n",
       "      <th>1</th>\n",
       "      <th>2</th>\n",
       "      <th>3</th>\n",
       "      <th>4</th>\n",
       "      <th>5</th>\n",
       "      <th>6</th>\n",
       "      <th>7</th>\n",
       "      <th>8</th>\n",
       "      <th>9</th>\n",
       "      <th>...</th>\n",
       "      <th>2371</th>\n",
       "      <th>2372</th>\n",
       "      <th>2373</th>\n",
       "      <th>2374</th>\n",
       "      <th>2375</th>\n",
       "      <th>2376</th>\n",
       "      <th>2377</th>\n",
       "      <th>2378</th>\n",
       "      <th>2379</th>\n",
       "      <th>2380</th>\n",
       "    </tr>\n",
       "  </thead>\n",
       "  <tbody>\n",
       "    <tr>\n",
       "      <th>0</th>\n",
       "      <td>0.014676</td>\n",
       "      <td>0.004222</td>\n",
       "      <td>0.003923</td>\n",
       "      <td>0.004029</td>\n",
       "      <td>0.004007</td>\n",
       "      <td>0.003775</td>\n",
       "      <td>0.003825</td>\n",
       "      <td>0.003887</td>\n",
       "      <td>0.004153</td>\n",
       "      <td>0.003804</td>\n",
       "      <td>...</td>\n",
       "      <td>72.0</td>\n",
       "      <td>35240.0</td>\n",
       "      <td>0.0</td>\n",
       "      <td>0.0</td>\n",
       "      <td>660.0</td>\n",
       "      <td>32768.0</td>\n",
       "      <td>0.0</td>\n",
       "      <td>0.0</td>\n",
       "      <td>0.0</td>\n",
       "      <td>0.0</td>\n",
       "    </tr>\n",
       "    <tr>\n",
       "      <th>1</th>\n",
       "      <td>0.184524</td>\n",
       "      <td>0.031308</td>\n",
       "      <td>0.005693</td>\n",
       "      <td>0.005959</td>\n",
       "      <td>0.008144</td>\n",
       "      <td>0.003512</td>\n",
       "      <td>0.005786</td>\n",
       "      <td>0.008550</td>\n",
       "      <td>0.009141</td>\n",
       "      <td>0.001791</td>\n",
       "      <td>...</td>\n",
       "      <td>64.0</td>\n",
       "      <td>92936.0</td>\n",
       "      <td>408.0</td>\n",
       "      <td>608.0</td>\n",
       "      <td>2604.0</td>\n",
       "      <td>4096.0</td>\n",
       "      <td>224.0</td>\n",
       "      <td>442296.0</td>\n",
       "      <td>0.0</td>\n",
       "      <td>0.0</td>\n",
       "    </tr>\n",
       "    <tr>\n",
       "      <th>2</th>\n",
       "      <td>0.251737</td>\n",
       "      <td>0.014205</td>\n",
       "      <td>0.006841</td>\n",
       "      <td>0.008556</td>\n",
       "      <td>0.023493</td>\n",
       "      <td>0.002858</td>\n",
       "      <td>0.003401</td>\n",
       "      <td>0.008556</td>\n",
       "      <td>0.010215</td>\n",
       "      <td>0.001176</td>\n",
       "      <td>...</td>\n",
       "      <td>0.0</td>\n",
       "      <td>0.0</td>\n",
       "      <td>0.0</td>\n",
       "      <td>0.0</td>\n",
       "      <td>1120.0</td>\n",
       "      <td>4096.0</td>\n",
       "      <td>192.0</td>\n",
       "      <td>37280.0</td>\n",
       "      <td>0.0</td>\n",
       "      <td>0.0</td>\n",
       "    </tr>\n",
       "    <tr>\n",
       "      <th>3</th>\n",
       "      <td>0.008964</td>\n",
       "      <td>0.004055</td>\n",
       "      <td>0.003925</td>\n",
       "      <td>0.003936</td>\n",
       "      <td>0.004037</td>\n",
       "      <td>0.003878</td>\n",
       "      <td>0.003847</td>\n",
       "      <td>0.003946</td>\n",
       "      <td>0.003939</td>\n",
       "      <td>0.003834</td>\n",
       "      <td>...</td>\n",
       "      <td>0.0</td>\n",
       "      <td>0.0</td>\n",
       "      <td>0.0</td>\n",
       "      <td>0.0</td>\n",
       "      <td>0.0</td>\n",
       "      <td>0.0</td>\n",
       "      <td>0.0</td>\n",
       "      <td>0.0</td>\n",
       "      <td>0.0</td>\n",
       "      <td>0.0</td>\n",
       "    </tr>\n",
       "    <tr>\n",
       "      <th>4</th>\n",
       "      <td>0.020401</td>\n",
       "      <td>0.005213</td>\n",
       "      <td>0.004519</td>\n",
       "      <td>0.004097</td>\n",
       "      <td>0.004240</td>\n",
       "      <td>0.004029</td>\n",
       "      <td>0.003785</td>\n",
       "      <td>0.004593</td>\n",
       "      <td>0.004875</td>\n",
       "      <td>0.003780</td>\n",
       "      <td>...</td>\n",
       "      <td>0.0</td>\n",
       "      <td>0.0</td>\n",
       "      <td>0.0</td>\n",
       "      <td>0.0</td>\n",
       "      <td>520.0</td>\n",
       "      <td>4096.0</td>\n",
       "      <td>0.0</td>\n",
       "      <td>0.0</td>\n",
       "      <td>0.0</td>\n",
       "      <td>0.0</td>\n",
       "    </tr>\n",
       "  </tbody>\n",
       "</table>\n",
       "<p>5 rows × 2381 columns</p>\n",
       "</div>"
      ],
      "text/plain": [
       "       0         1         2         3         4         5         6     \\\n",
       "0  0.014676  0.004222  0.003923  0.004029  0.004007  0.003775  0.003825   \n",
       "1  0.184524  0.031308  0.005693  0.005959  0.008144  0.003512  0.005786   \n",
       "2  0.251737  0.014205  0.006841  0.008556  0.023493  0.002858  0.003401   \n",
       "3  0.008964  0.004055  0.003925  0.003936  0.004037  0.003878  0.003847   \n",
       "4  0.020401  0.005213  0.004519  0.004097  0.004240  0.004029  0.003785   \n",
       "\n",
       "       7         8         9     ...  2371     2372   2373   2374    2375  \\\n",
       "0  0.003887  0.004153  0.003804  ...  72.0  35240.0    0.0    0.0   660.0   \n",
       "1  0.008550  0.009141  0.001791  ...  64.0  92936.0  408.0  608.0  2604.0   \n",
       "2  0.008556  0.010215  0.001176  ...   0.0      0.0    0.0    0.0  1120.0   \n",
       "3  0.003946  0.003939  0.003834  ...   0.0      0.0    0.0    0.0     0.0   \n",
       "4  0.004593  0.004875  0.003780  ...   0.0      0.0    0.0    0.0   520.0   \n",
       "\n",
       "      2376   2377      2378  2379  2380  \n",
       "0  32768.0    0.0       0.0   0.0   0.0  \n",
       "1   4096.0  224.0  442296.0   0.0   0.0  \n",
       "2   4096.0  192.0   37280.0   0.0   0.0  \n",
       "3      0.0    0.0       0.0   0.0   0.0  \n",
       "4   4096.0    0.0       0.0   0.0   0.0  \n",
       "\n",
       "[5 rows x 2381 columns]"
      ]
     },
     "execution_count": 22,
     "metadata": {},
     "output_type": "execute_result"
    }
   ],
   "source": [
    "X_train_data.head()"
   ]
  },
  {
   "cell_type": "code",
   "execution_count": 23,
   "id": "6d13778d",
   "metadata": {},
   "outputs": [
    {
     "data": {
      "text/html": [
       "<div>\n",
       "<style scoped>\n",
       "    .dataframe tbody tr th:only-of-type {\n",
       "        vertical-align: middle;\n",
       "    }\n",
       "\n",
       "    .dataframe tbody tr th {\n",
       "        vertical-align: top;\n",
       "    }\n",
       "\n",
       "    .dataframe thead th {\n",
       "        text-align: right;\n",
       "    }\n",
       "</style>\n",
       "<table border=\"1\" class=\"dataframe\">\n",
       "  <thead>\n",
       "    <tr style=\"text-align: right;\">\n",
       "      <th></th>\n",
       "      <th>0</th>\n",
       "    </tr>\n",
       "  </thead>\n",
       "  <tbody>\n",
       "    <tr>\n",
       "      <th>0</th>\n",
       "      <td>0.0</td>\n",
       "    </tr>\n",
       "    <tr>\n",
       "      <th>1</th>\n",
       "      <td>0.0</td>\n",
       "    </tr>\n",
       "    <tr>\n",
       "      <th>2</th>\n",
       "      <td>0.0</td>\n",
       "    </tr>\n",
       "    <tr>\n",
       "      <th>3</th>\n",
       "      <td>0.0</td>\n",
       "    </tr>\n",
       "    <tr>\n",
       "      <th>4</th>\n",
       "      <td>0.0</td>\n",
       "    </tr>\n",
       "    <tr>\n",
       "      <th>...</th>\n",
       "      <td>...</td>\n",
       "    </tr>\n",
       "    <tr>\n",
       "      <th>799995</th>\n",
       "      <td>1.0</td>\n",
       "    </tr>\n",
       "    <tr>\n",
       "      <th>799996</th>\n",
       "      <td>1.0</td>\n",
       "    </tr>\n",
       "    <tr>\n",
       "      <th>799997</th>\n",
       "      <td>0.0</td>\n",
       "    </tr>\n",
       "    <tr>\n",
       "      <th>799998</th>\n",
       "      <td>1.0</td>\n",
       "    </tr>\n",
       "    <tr>\n",
       "      <th>799999</th>\n",
       "      <td>1.0</td>\n",
       "    </tr>\n",
       "  </tbody>\n",
       "</table>\n",
       "<p>800000 rows × 1 columns</p>\n",
       "</div>"
      ],
      "text/plain": [
       "          0\n",
       "0       0.0\n",
       "1       0.0\n",
       "2       0.0\n",
       "3       0.0\n",
       "4       0.0\n",
       "...     ...\n",
       "799995  1.0\n",
       "799996  1.0\n",
       "799997  0.0\n",
       "799998  1.0\n",
       "799999  1.0\n",
       "\n",
       "[800000 rows x 1 columns]"
      ]
     },
     "execution_count": 23,
     "metadata": {},
     "output_type": "execute_result"
    }
   ],
   "source": [
    "Y_train_data"
   ]
  },
  {
   "cell_type": "code",
   "execution_count": 24,
   "id": "87a8a52f",
   "metadata": {},
   "outputs": [
    {
     "data": {
      "text/html": [
       "<div>\n",
       "<style scoped>\n",
       "    .dataframe tbody tr th:only-of-type {\n",
       "        vertical-align: middle;\n",
       "    }\n",
       "\n",
       "    .dataframe tbody tr th {\n",
       "        vertical-align: top;\n",
       "    }\n",
       "\n",
       "    .dataframe thead th {\n",
       "        text-align: right;\n",
       "    }\n",
       "</style>\n",
       "<table border=\"1\" class=\"dataframe\">\n",
       "  <thead>\n",
       "    <tr style=\"text-align: right;\">\n",
       "      <th></th>\n",
       "      <th>0</th>\n",
       "      <th>1</th>\n",
       "      <th>2</th>\n",
       "      <th>3</th>\n",
       "      <th>4</th>\n",
       "      <th>5</th>\n",
       "      <th>6</th>\n",
       "      <th>7</th>\n",
       "      <th>8</th>\n",
       "      <th>9</th>\n",
       "      <th>...</th>\n",
       "      <th>2371</th>\n",
       "      <th>2372</th>\n",
       "      <th>2373</th>\n",
       "      <th>2374</th>\n",
       "      <th>2375</th>\n",
       "      <th>2376</th>\n",
       "      <th>2377</th>\n",
       "      <th>2378</th>\n",
       "      <th>2379</th>\n",
       "      <th>2380</th>\n",
       "    </tr>\n",
       "  </thead>\n",
       "  <tbody>\n",
       "    <tr>\n",
       "      <th>0</th>\n",
       "      <td>0.014676</td>\n",
       "      <td>0.004222</td>\n",
       "      <td>0.003923</td>\n",
       "      <td>0.004029</td>\n",
       "      <td>0.004007</td>\n",
       "      <td>0.003775</td>\n",
       "      <td>0.003825</td>\n",
       "      <td>0.003887</td>\n",
       "      <td>0.004153</td>\n",
       "      <td>0.003804</td>\n",
       "      <td>...</td>\n",
       "      <td>72.0</td>\n",
       "      <td>35240.0</td>\n",
       "      <td>0.0</td>\n",
       "      <td>0.0</td>\n",
       "      <td>660.0</td>\n",
       "      <td>32768.0</td>\n",
       "      <td>0.0</td>\n",
       "      <td>0.0</td>\n",
       "      <td>0.0</td>\n",
       "      <td>0.0</td>\n",
       "    </tr>\n",
       "    <tr>\n",
       "      <th>1</th>\n",
       "      <td>0.184524</td>\n",
       "      <td>0.031308</td>\n",
       "      <td>0.005693</td>\n",
       "      <td>0.005959</td>\n",
       "      <td>0.008144</td>\n",
       "      <td>0.003512</td>\n",
       "      <td>0.005786</td>\n",
       "      <td>0.008550</td>\n",
       "      <td>0.009141</td>\n",
       "      <td>0.001791</td>\n",
       "      <td>...</td>\n",
       "      <td>64.0</td>\n",
       "      <td>92936.0</td>\n",
       "      <td>408.0</td>\n",
       "      <td>608.0</td>\n",
       "      <td>2604.0</td>\n",
       "      <td>4096.0</td>\n",
       "      <td>224.0</td>\n",
       "      <td>442296.0</td>\n",
       "      <td>0.0</td>\n",
       "      <td>0.0</td>\n",
       "    </tr>\n",
       "    <tr>\n",
       "      <th>2</th>\n",
       "      <td>0.251737</td>\n",
       "      <td>0.014205</td>\n",
       "      <td>0.006841</td>\n",
       "      <td>0.008556</td>\n",
       "      <td>0.023493</td>\n",
       "      <td>0.002858</td>\n",
       "      <td>0.003401</td>\n",
       "      <td>0.008556</td>\n",
       "      <td>0.010215</td>\n",
       "      <td>0.001176</td>\n",
       "      <td>...</td>\n",
       "      <td>0.0</td>\n",
       "      <td>0.0</td>\n",
       "      <td>0.0</td>\n",
       "      <td>0.0</td>\n",
       "      <td>1120.0</td>\n",
       "      <td>4096.0</td>\n",
       "      <td>192.0</td>\n",
       "      <td>37280.0</td>\n",
       "      <td>0.0</td>\n",
       "      <td>0.0</td>\n",
       "    </tr>\n",
       "    <tr>\n",
       "      <th>3</th>\n",
       "      <td>0.008964</td>\n",
       "      <td>0.004055</td>\n",
       "      <td>0.003925</td>\n",
       "      <td>0.003936</td>\n",
       "      <td>0.004037</td>\n",
       "      <td>0.003878</td>\n",
       "      <td>0.003847</td>\n",
       "      <td>0.003946</td>\n",
       "      <td>0.003939</td>\n",
       "      <td>0.003834</td>\n",
       "      <td>...</td>\n",
       "      <td>0.0</td>\n",
       "      <td>0.0</td>\n",
       "      <td>0.0</td>\n",
       "      <td>0.0</td>\n",
       "      <td>0.0</td>\n",
       "      <td>0.0</td>\n",
       "      <td>0.0</td>\n",
       "      <td>0.0</td>\n",
       "      <td>0.0</td>\n",
       "      <td>0.0</td>\n",
       "    </tr>\n",
       "    <tr>\n",
       "      <th>4</th>\n",
       "      <td>0.020401</td>\n",
       "      <td>0.005213</td>\n",
       "      <td>0.004519</td>\n",
       "      <td>0.004097</td>\n",
       "      <td>0.004240</td>\n",
       "      <td>0.004029</td>\n",
       "      <td>0.003785</td>\n",
       "      <td>0.004593</td>\n",
       "      <td>0.004875</td>\n",
       "      <td>0.003780</td>\n",
       "      <td>...</td>\n",
       "      <td>0.0</td>\n",
       "      <td>0.0</td>\n",
       "      <td>0.0</td>\n",
       "      <td>0.0</td>\n",
       "      <td>520.0</td>\n",
       "      <td>4096.0</td>\n",
       "      <td>0.0</td>\n",
       "      <td>0.0</td>\n",
       "      <td>0.0</td>\n",
       "      <td>0.0</td>\n",
       "    </tr>\n",
       "  </tbody>\n",
       "</table>\n",
       "<p>5 rows × 2381 columns</p>\n",
       "</div>"
      ],
      "text/plain": [
       "       0         1         2         3         4         5         6     \\\n",
       "0  0.014676  0.004222  0.003923  0.004029  0.004007  0.003775  0.003825   \n",
       "1  0.184524  0.031308  0.005693  0.005959  0.008144  0.003512  0.005786   \n",
       "2  0.251737  0.014205  0.006841  0.008556  0.023493  0.002858  0.003401   \n",
       "3  0.008964  0.004055  0.003925  0.003936  0.004037  0.003878  0.003847   \n",
       "4  0.020401  0.005213  0.004519  0.004097  0.004240  0.004029  0.003785   \n",
       "\n",
       "       7         8         9     ...  2371     2372   2373   2374    2375  \\\n",
       "0  0.003887  0.004153  0.003804  ...  72.0  35240.0    0.0    0.0   660.0   \n",
       "1  0.008550  0.009141  0.001791  ...  64.0  92936.0  408.0  608.0  2604.0   \n",
       "2  0.008556  0.010215  0.001176  ...   0.0      0.0    0.0    0.0  1120.0   \n",
       "3  0.003946  0.003939  0.003834  ...   0.0      0.0    0.0    0.0     0.0   \n",
       "4  0.004593  0.004875  0.003780  ...   0.0      0.0    0.0    0.0   520.0   \n",
       "\n",
       "      2376   2377      2378  2379  2380  \n",
       "0  32768.0    0.0       0.0   0.0   0.0  \n",
       "1   4096.0  224.0  442296.0   0.0   0.0  \n",
       "2   4096.0  192.0   37280.0   0.0   0.0  \n",
       "3      0.0    0.0       0.0   0.0   0.0  \n",
       "4   4096.0    0.0       0.0   0.0   0.0  \n",
       "\n",
       "[5 rows x 2381 columns]"
      ]
     },
     "execution_count": 24,
     "metadata": {},
     "output_type": "execute_result"
    }
   ],
   "source": [
    "X_data = pd.DataFrame(new_array)\n",
    "\n",
    "X_data.head()"
   ]
  },
  {
   "cell_type": "code",
   "execution_count": 25,
   "id": "d4f12a28",
   "metadata": {},
   "outputs": [
    {
     "data": {
      "text/plain": [
       "(1000000, 2381)"
      ]
     },
     "execution_count": 25,
     "metadata": {},
     "output_type": "execute_result"
    }
   ],
   "source": [
    "X_data.shape"
   ]
  },
  {
   "cell_type": "code",
   "execution_count": 26,
   "id": "30fdb875",
   "metadata": {},
   "outputs": [
    {
     "data": {
      "text/plain": [
       "array([[-1.0704042 , -0.6011297 , -0.41426557, ..., -0.01638052,\n",
       "        -0.0187919 , -0.01027877],\n",
       "       [-0.1315548 ,  1.6822934 , -0.18836163, ..., -0.00485229,\n",
       "        -0.0187919 , -0.01027877],\n",
       "       [ 0.23997179,  0.24044818, -0.04176831, ..., -0.01540884,\n",
       "        -0.0187919 , -0.01027877],\n",
       "       ...,\n",
       "       [-0.25131926, -0.33288878, -0.53274214, ..., -0.01638052,\n",
       "        -0.0187919 , -0.01027877],\n",
       "       [ 0.13542402,  0.84357285,  0.43160006, ..., -0.01638052,\n",
       "        -0.01879004, -0.00983389],\n",
       "       [ 1.5813782 , -0.6024061 , -0.65219843, ..., -0.01638052,\n",
       "        -0.0187919 , -0.01027877]], dtype=float32)"
      ]
     },
     "execution_count": 26,
     "metadata": {},
     "output_type": "execute_result"
    }
   ],
   "source": [
    "from sklearn import preprocessing\n",
    "\n",
    "scaler = preprocessing.StandardScaler().fit(X_data)    #standardization of the data\n",
    "\n",
    "X_scaled = scaler.transform(X_data)\n",
    "\n",
    "X_scaled"
   ]
  },
  {
   "cell_type": "code",
   "execution_count": 27,
   "id": "dad0b236",
   "metadata": {},
   "outputs": [],
   "source": [
    "from sklearn.ensemble import RandomForestClassifier\n",
    "from sklearn.model_selection import train_test_split\n",
    "from sklearn.metrics import accuracy_score\n",
    "\n",
    "\n",
    "\n",
    "def fit_random_forest_classifier(X, y):\n",
    "    '''\n",
    "    INPUT: names are pretty self explanatory\n",
    "    OUTPUT: none - prints the confusion matrix and accuracy\n",
    "    '''\n",
    "    #First let's create training and testing data\n",
    "    X_train, X_test, y_train, y_test = train_test_split(X, y, test_size=0.30, random_state=42)\n",
    "\n",
    "    #We could grid search and tune, but let's just fit a simple model to see how it does\n",
    "    #instantiate\n",
    "    clf = RandomForestClassifier(n_estimators=100, max_depth=None)\n",
    "\n",
    "    #fit\n",
    "    clf.fit(X_train, y_train)\n",
    "\n",
    "    #predict\n",
    "    y_preds = clf.predict(X_test)\n",
    "\n",
    "    #score\n",
    "    acc = accuracy_score(y_test, y_preds)\n",
    "    print(acc)\n",
    "    return acc"
   ]
  },
  {
   "cell_type": "code",
   "execution_count": null,
   "id": "7c86690c",
   "metadata": {},
   "outputs": [],
   "source": [
    "fit_random_forest_classifier(X_scaled, new_array_y)"
   ]
  },
  {
   "cell_type": "code",
   "execution_count": null,
   "id": "38562b49",
   "metadata": {},
   "outputs": [],
   "source": []
  }
 ],
 "metadata": {
  "kernelspec": {
   "display_name": "Python 3 (ipykernel)",
   "language": "python",
   "name": "python3"
  },
  "language_info": {
   "codemirror_mode": {
    "name": "ipython",
    "version": 3
   },
   "file_extension": ".py",
   "mimetype": "text/x-python",
   "name": "python",
   "nbconvert_exporter": "python",
   "pygments_lexer": "ipython3",
   "version": "3.9.7"
  }
 },
 "nbformat": 4,
 "nbformat_minor": 5
}
