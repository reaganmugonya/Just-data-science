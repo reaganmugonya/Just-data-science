{
 "cells": [
  {
   "cell_type": "code",
   "execution_count": 1,
   "id": "6d92d497",
   "metadata": {},
   "outputs": [],
   "source": [
    "import numpy as np\n",
    "import pandas as pd"
   ]
  },
  {
   "cell_type": "code",
   "execution_count": 2,
   "id": "22a0c5e8",
   "metadata": {},
   "outputs": [],
   "source": [
    "loaded_1 = np.load('600k_data.npz')"
   ]
  },
  {
   "cell_type": "code",
   "execution_count": 3,
   "id": "2ab197df",
   "metadata": {},
   "outputs": [],
   "source": [
    "#extract train dataset\n",
    "Train_Data = loaded_1['arr_0']"
   ]
  },
  {
   "cell_type": "code",
   "execution_count": 4,
   "id": "2e0ffd59",
   "metadata": {},
   "outputs": [],
   "source": [
    "Train_Data_df = pd.DataFrame(Train_Data)"
   ]
  },
  {
   "cell_type": "code",
   "execution_count": 5,
   "id": "6e8e0e48",
   "metadata": {},
   "outputs": [],
   "source": [
    "# Creating a dataframe with 83%\n",
    "# values of original dataframe\n",
    "\n",
    "Train_Data_df_83_per = Train_Data_df.sample(frac = 0.83333)"
   ]
  },
  {
   "cell_type": "code",
   "execution_count": 6,
   "id": "7a4551ce",
   "metadata": {},
   "outputs": [],
   "source": [
    "Train_Data_df_17_per = Train_Data_df.drop(Train_Data_df_83_per.index)"
   ]
  },
  {
   "cell_type": "code",
   "execution_count": 7,
   "id": "cb84c12a",
   "metadata": {},
   "outputs": [
    {
     "data": {
      "text/plain": [
       "0.0    50127\n",
       "1.0    49875\n",
       "Name: 2381, dtype: int64"
      ]
     },
     "execution_count": 7,
     "metadata": {},
     "output_type": "execute_result"
    }
   ],
   "source": [
    "Train_Data_df_17_per[2381].value_counts()"
   ]
  },
  {
   "cell_type": "code",
   "execution_count": 8,
   "id": "70b51a6d",
   "metadata": {},
   "outputs": [],
   "source": [
    "Train_Data_df_17_per_np = Train_Data_df_17_per.to_numpy()"
   ]
  },
  {
   "cell_type": "code",
   "execution_count": 9,
   "id": "731ef243",
   "metadata": {},
   "outputs": [],
   "source": [
    "np.savez_compressed('100k_data', Train_Data_df_17_per_np)"
   ]
  },
  {
   "cell_type": "code",
   "execution_count": null,
   "id": "6048a8fc",
   "metadata": {},
   "outputs": [],
   "source": []
  }
 ],
 "metadata": {
  "kernelspec": {
   "display_name": "Python 3 (ipykernel)",
   "language": "python",
   "name": "python3"
  },
  "language_info": {
   "codemirror_mode": {
    "name": "ipython",
    "version": 3
   },
   "file_extension": ".py",
   "mimetype": "text/x-python",
   "name": "python",
   "nbconvert_exporter": "python",
   "pygments_lexer": "ipython3",
   "version": "3.9.7"
  }
 },
 "nbformat": 4,
 "nbformat_minor": 5
}
