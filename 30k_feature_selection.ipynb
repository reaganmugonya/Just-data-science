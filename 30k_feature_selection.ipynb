{
 "cells": [
  {
   "cell_type": "code",
   "execution_count": 1,
   "id": "3cfc9e53",
   "metadata": {},
   "outputs": [],
   "source": [
    "import numpy as np\n",
    "import pandas as pd"
   ]
  },
  {
   "cell_type": "code",
   "execution_count": 2,
   "id": "18922133",
   "metadata": {},
   "outputs": [],
   "source": [
    "#loading train and testing data\n",
    "\n",
    "loaded_train = np.load('30k_data.npz')\n",
    "\n",
    "loaded_test = np.load('10k_test_data.npz')"
   ]
  },
  {
   "cell_type": "code",
   "execution_count": 3,
   "id": "02d3f080",
   "metadata": {},
   "outputs": [
    {
     "data": {
      "text/plain": [
       "['arr_0']"
      ]
     },
     "execution_count": 3,
     "metadata": {},
     "output_type": "execute_result"
    }
   ],
   "source": [
    "loaded_train.files"
   ]
  },
  {
   "cell_type": "code",
   "execution_count": 4,
   "id": "41237079",
   "metadata": {},
   "outputs": [
    {
     "data": {
      "text/plain": [
       "['arr_0']"
      ]
     },
     "execution_count": 4,
     "metadata": {},
     "output_type": "execute_result"
    }
   ],
   "source": [
    "loaded_test.files"
   ]
  },
  {
   "cell_type": "code",
   "execution_count": 5,
   "id": "a02b42fb",
   "metadata": {},
   "outputs": [],
   "source": [
    "#extract train dataset\n",
    "Train = loaded_train['arr_0']"
   ]
  },
  {
   "cell_type": "code",
   "execution_count": 6,
   "id": "8fa76771",
   "metadata": {},
   "outputs": [],
   "source": [
    "#extract test dataset\n",
    "Test = loaded_test['arr_0']"
   ]
  },
  {
   "cell_type": "code",
   "execution_count": 7,
   "id": "26c7abb7",
   "metadata": {},
   "outputs": [],
   "source": [
    "#create test dataframe\n",
    "Test_df = pd.DataFrame(Test)"
   ]
  },
  {
   "cell_type": "code",
   "execution_count": 8,
   "id": "1fe0797c",
   "metadata": {},
   "outputs": [],
   "source": [
    "#creating the X_Test and y_test\n",
    "X_Test = Test_df.iloc[:, 0:-1]\n",
    "y_test = Test_df.iloc[:, -1]\n"
   ]
  },
  {
   "cell_type": "code",
   "execution_count": 9,
   "id": "f25ef15f",
   "metadata": {},
   "outputs": [
    {
     "data": {
      "text/plain": [
       "(10000, 2381)"
      ]
     },
     "execution_count": 9,
     "metadata": {},
     "output_type": "execute_result"
    }
   ],
   "source": [
    "X_Test.shape"
   ]
  },
  {
   "cell_type": "code",
   "execution_count": 10,
   "id": "15432e94",
   "metadata": {},
   "outputs": [
    {
     "data": {
      "text/plain": [
       "(10000,)"
      ]
     },
     "execution_count": 10,
     "metadata": {},
     "output_type": "execute_result"
    }
   ],
   "source": [
    "y_test.shape"
   ]
  },
  {
   "cell_type": "code",
   "execution_count": 11,
   "id": "3975c2a8",
   "metadata": {},
   "outputs": [
    {
     "data": {
      "text/plain": [
       "(10000, 2382)"
      ]
     },
     "execution_count": 11,
     "metadata": {},
     "output_type": "execute_result"
    }
   ],
   "source": [
    "Test_df.shape"
   ]
  },
  {
   "cell_type": "code",
   "execution_count": 12,
   "id": "32b699d5",
   "metadata": {},
   "outputs": [],
   "source": [
    "#create train dataframe\n",
    "Train_df = pd.DataFrame(Train)"
   ]
  },
  {
   "cell_type": "code",
   "execution_count": 13,
   "id": "6c9073af",
   "metadata": {},
   "outputs": [],
   "source": [
    "#creating the X_Train and y_train\n",
    "X_Train = Train_df.iloc[:, 0:-1]\n",
    "y_train = Train_df.iloc[:, -1]"
   ]
  },
  {
   "cell_type": "code",
   "execution_count": 14,
   "id": "7b5a361d",
   "metadata": {},
   "outputs": [
    {
     "data": {
      "text/plain": [
       "(30000, 2382)"
      ]
     },
     "execution_count": 14,
     "metadata": {},
     "output_type": "execute_result"
    }
   ],
   "source": [
    "Train_df.shape"
   ]
  },
  {
   "cell_type": "code",
   "execution_count": 15,
   "id": "a43015ed",
   "metadata": {},
   "outputs": [
    {
     "data": {
      "text/plain": [
       "(30000, 2381)"
      ]
     },
     "execution_count": 15,
     "metadata": {},
     "output_type": "execute_result"
    }
   ],
   "source": [
    "X_Train.shape"
   ]
  },
  {
   "cell_type": "code",
   "execution_count": 16,
   "id": "8e387198",
   "metadata": {},
   "outputs": [
    {
     "data": {
      "text/plain": [
       "(30000,)"
      ]
     },
     "execution_count": 16,
     "metadata": {},
     "output_type": "execute_result"
    }
   ],
   "source": [
    "y_train.shape"
   ]
  },
  {
   "cell_type": "code",
   "execution_count": 17,
   "id": "323a6f56",
   "metadata": {},
   "outputs": [],
   "source": [
    "#Scaling \n",
    "\n",
    "from sklearn import preprocessing\n",
    "\n",
    "scaler_1 = preprocessing.StandardScaler().fit(X_Train)\n",
    "X_Train_scaled = scaler_1.transform(X_Train) \n",
    "\n",
    "# test data\n",
    "scaler_2 = preprocessing.StandardScaler().fit(X_Test)\n",
    "X_Test_scaled = scaler_2.transform(X_Test)"
   ]
  },
  {
   "cell_type": "code",
   "execution_count": 18,
   "id": "594fe95e",
   "metadata": {},
   "outputs": [
    {
     "data": {
      "text/plain": [
       "array([[-1.1376668 , -0.71354455, -0.4002507 , ..., -0.0206471 ,\n",
       "        -0.02642179, -0.0147915 ],\n",
       "       [-1.1344174 , -0.716158  , -0.39651167, ..., -0.0206471 ,\n",
       "        -0.02642179, -0.0147915 ],\n",
       "       [-1.1223845 , -0.71412957, -0.4013139 , ..., -0.0206471 ,\n",
       "        -0.02642179, -0.0147915 ],\n",
       "       ...,\n",
       "       [ 0.16267364,  0.89384055,  0.00172271, ..., -0.0206471 ,\n",
       "        -0.02642179, -0.0147915 ],\n",
       "       [-1.1528703 , -0.73119855, -0.38722658, ..., -0.0206471 ,\n",
       "        -0.02642179, -0.0147915 ],\n",
       "       [-0.44064534, -0.50288445, -0.20090239, ..., -0.0206471 ,\n",
       "        -0.02642179, -0.0147915 ]], dtype=float32)"
      ]
     },
     "execution_count": 18,
     "metadata": {},
     "output_type": "execute_result"
    }
   ],
   "source": [
    "X_Train_scaled"
   ]
  },
  {
   "cell_type": "code",
   "execution_count": 19,
   "id": "7ce4f9d6",
   "metadata": {},
   "outputs": [],
   "source": [
    "#loading the features names\n",
    "\n",
    "feature_names = np.genfromtxt(\"ember_2381_feature_names.txt\", delimiter=\",\", dtype='str', comments=\"!#\", invalid_raise=False)"
   ]
  },
  {
   "cell_type": "code",
   "execution_count": 20,
   "id": "9a1b9b7e",
   "metadata": {},
   "outputs": [],
   "source": [
    "feature_names_df = pd.DataFrame(feature_names)"
   ]
  },
  {
   "cell_type": "code",
   "execution_count": 21,
   "id": "d48fab9b",
   "metadata": {},
   "outputs": [
    {
     "data": {
      "text/html": [
       "<div>\n",
       "<style scoped>\n",
       "    .dataframe tbody tr th:only-of-type {\n",
       "        vertical-align: middle;\n",
       "    }\n",
       "\n",
       "    .dataframe tbody tr th {\n",
       "        vertical-align: top;\n",
       "    }\n",
       "\n",
       "    .dataframe thead th {\n",
       "        text-align: right;\n",
       "    }\n",
       "</style>\n",
       "<table border=\"1\" class=\"dataframe\">\n",
       "  <thead>\n",
       "    <tr style=\"text-align: right;\">\n",
       "      <th></th>\n",
       "      <th>0</th>\n",
       "    </tr>\n",
       "  </thead>\n",
       "  <tbody>\n",
       "    <tr>\n",
       "      <th>0</th>\n",
       "      <td>ByteHistorgram-0</td>\n",
       "    </tr>\n",
       "    <tr>\n",
       "      <th>1</th>\n",
       "      <td>ByteHistorgram-1</td>\n",
       "    </tr>\n",
       "    <tr>\n",
       "      <th>2</th>\n",
       "      <td>ByteHistorgram-2</td>\n",
       "    </tr>\n",
       "    <tr>\n",
       "      <th>3</th>\n",
       "      <td>ByteHistorgram-3</td>\n",
       "    </tr>\n",
       "    <tr>\n",
       "      <th>4</th>\n",
       "      <td>ByteHistorgram-4</td>\n",
       "    </tr>\n",
       "    <tr>\n",
       "      <th>...</th>\n",
       "      <td>...</td>\n",
       "    </tr>\n",
       "    <tr>\n",
       "      <th>2377</th>\n",
       "      <td>size of data directories - 13</td>\n",
       "    </tr>\n",
       "    <tr>\n",
       "      <th>2378</th>\n",
       "      <td>virtual size of data directories - 13</td>\n",
       "    </tr>\n",
       "    <tr>\n",
       "      <th>2379</th>\n",
       "      <td>size of data directories - 14</td>\n",
       "    </tr>\n",
       "    <tr>\n",
       "      <th>2380</th>\n",
       "      <td>virtual size of data directories - 14</td>\n",
       "    </tr>\n",
       "    <tr>\n",
       "      <th>2381</th>\n",
       "      <td>labels</td>\n",
       "    </tr>\n",
       "  </tbody>\n",
       "</table>\n",
       "<p>2382 rows × 1 columns</p>\n",
       "</div>"
      ],
      "text/plain": [
       "                                          0\n",
       "0                          ByteHistorgram-0\n",
       "1                          ByteHistorgram-1\n",
       "2                          ByteHistorgram-2\n",
       "3                          ByteHistorgram-3\n",
       "4                          ByteHistorgram-4\n",
       "...                                     ...\n",
       "2377          size of data directories - 13\n",
       "2378  virtual size of data directories - 13\n",
       "2379          size of data directories - 14\n",
       "2380  virtual size of data directories - 14\n",
       "2381                                 labels\n",
       "\n",
       "[2382 rows x 1 columns]"
      ]
     },
     "execution_count": 21,
     "metadata": {},
     "output_type": "execute_result"
    }
   ],
   "source": [
    "feature_names_df"
   ]
  },
  {
   "cell_type": "code",
   "execution_count": 22,
   "id": "43c60bdf",
   "metadata": {},
   "outputs": [],
   "source": [
    "feature_names_df = feature_names_df.drop(2381, axis=0)"
   ]
  },
  {
   "cell_type": "code",
   "execution_count": 23,
   "id": "14584537",
   "metadata": {},
   "outputs": [],
   "source": [
    "X_Train_scaled_df = pd.DataFrame(X_Train_scaled)"
   ]
  },
  {
   "cell_type": "code",
   "execution_count": 24,
   "id": "bfc64b85",
   "metadata": {},
   "outputs": [
    {
     "data": {
      "text/plain": [
       "(30000, 2381)"
      ]
     },
     "execution_count": 24,
     "metadata": {},
     "output_type": "execute_result"
    }
   ],
   "source": [
    "X_Train_scaled_df.shape"
   ]
  },
  {
   "cell_type": "code",
   "execution_count": 25,
   "id": "6d387b28",
   "metadata": {},
   "outputs": [
    {
     "data": {
      "text/plain": [
       "(2381, 1)"
      ]
     },
     "execution_count": 25,
     "metadata": {},
     "output_type": "execute_result"
    }
   ],
   "source": [
    "feature_names_df.shape"
   ]
  },
  {
   "cell_type": "code",
   "execution_count": 26,
   "id": "12811d11",
   "metadata": {},
   "outputs": [],
   "source": [
    "X_Train_scaled_df.columns = feature_names_df"
   ]
  },
  {
   "cell_type": "code",
   "execution_count": 27,
   "id": "63ac7e84",
   "metadata": {},
   "outputs": [
    {
     "data": {
      "text/html": [
       "<div>\n",
       "<style scoped>\n",
       "    .dataframe tbody tr th:only-of-type {\n",
       "        vertical-align: middle;\n",
       "    }\n",
       "\n",
       "    .dataframe tbody tr th {\n",
       "        vertical-align: top;\n",
       "    }\n",
       "\n",
       "    .dataframe thead th {\n",
       "        text-align: right;\n",
       "    }\n",
       "</style>\n",
       "<table border=\"1\" class=\"dataframe\">\n",
       "  <thead>\n",
       "    <tr style=\"text-align: right;\">\n",
       "      <th></th>\n",
       "      <th>(ByteHistorgram-0,)</th>\n",
       "      <th>(ByteHistorgram-1,)</th>\n",
       "      <th>(ByteHistorgram-2,)</th>\n",
       "      <th>(ByteHistorgram-3,)</th>\n",
       "      <th>(ByteHistorgram-4,)</th>\n",
       "      <th>(ByteHistorgram-5,)</th>\n",
       "      <th>(ByteHistorgram-6,)</th>\n",
       "      <th>(ByteHistorgram-7,)</th>\n",
       "      <th>(ByteHistorgram-8,)</th>\n",
       "      <th>(ByteHistorgram-9,)</th>\n",
       "      <th>...</th>\n",
       "      <th>(size of data directories - 10,)</th>\n",
       "      <th>(virtual size of data directories - 10,)</th>\n",
       "      <th>(size of data directories - 11,)</th>\n",
       "      <th>(virtual size of data directories - 11,)</th>\n",
       "      <th>(size of data directories - 12,)</th>\n",
       "      <th>(virtual size of data directories - 12,)</th>\n",
       "      <th>(size of data directories - 13,)</th>\n",
       "      <th>(virtual size of data directories - 13,)</th>\n",
       "      <th>(size of data directories - 14,)</th>\n",
       "      <th>(virtual size of data directories - 14,)</th>\n",
       "    </tr>\n",
       "  </thead>\n",
       "  <tbody>\n",
       "    <tr>\n",
       "      <th>0</th>\n",
       "      <td>-1.137667</td>\n",
       "      <td>-0.713545</td>\n",
       "      <td>-0.400251</td>\n",
       "      <td>-0.250323</td>\n",
       "      <td>-0.341734</td>\n",
       "      <td>-0.055461</td>\n",
       "      <td>-0.146172</td>\n",
       "      <td>0.100514</td>\n",
       "      <td>-0.550944</td>\n",
       "      <td>0.145270</td>\n",
       "      <td>...</td>\n",
       "      <td>-0.016308</td>\n",
       "      <td>-0.020853</td>\n",
       "      <td>-0.016188</td>\n",
       "      <td>-0.010345</td>\n",
       "      <td>-0.005820</td>\n",
       "      <td>-0.022133</td>\n",
       "      <td>-0.016176</td>\n",
       "      <td>-0.020647</td>\n",
       "      <td>-0.026422</td>\n",
       "      <td>-0.014791</td>\n",
       "    </tr>\n",
       "    <tr>\n",
       "      <th>1</th>\n",
       "      <td>-1.134417</td>\n",
       "      <td>-0.716158</td>\n",
       "      <td>-0.396512</td>\n",
       "      <td>-0.240663</td>\n",
       "      <td>-0.337414</td>\n",
       "      <td>-0.055016</td>\n",
       "      <td>-0.134112</td>\n",
       "      <td>0.083309</td>\n",
       "      <td>-0.563923</td>\n",
       "      <td>0.135229</td>\n",
       "      <td>...</td>\n",
       "      <td>-0.016308</td>\n",
       "      <td>-0.020853</td>\n",
       "      <td>-0.016188</td>\n",
       "      <td>-0.010345</td>\n",
       "      <td>-0.005820</td>\n",
       "      <td>-0.022133</td>\n",
       "      <td>-0.016176</td>\n",
       "      <td>-0.020647</td>\n",
       "      <td>-0.026422</td>\n",
       "      <td>-0.014791</td>\n",
       "    </tr>\n",
       "    <tr>\n",
       "      <th>2</th>\n",
       "      <td>-1.122385</td>\n",
       "      <td>-0.714130</td>\n",
       "      <td>-0.401314</td>\n",
       "      <td>-0.244660</td>\n",
       "      <td>-0.334247</td>\n",
       "      <td>-0.067405</td>\n",
       "      <td>-0.138085</td>\n",
       "      <td>0.111495</td>\n",
       "      <td>-0.539702</td>\n",
       "      <td>0.153068</td>\n",
       "      <td>...</td>\n",
       "      <td>-0.016308</td>\n",
       "      <td>-0.020853</td>\n",
       "      <td>-0.016188</td>\n",
       "      <td>-0.010345</td>\n",
       "      <td>-0.005820</td>\n",
       "      <td>-0.022133</td>\n",
       "      <td>-0.016176</td>\n",
       "      <td>-0.020647</td>\n",
       "      <td>-0.026422</td>\n",
       "      <td>-0.014791</td>\n",
       "    </tr>\n",
       "    <tr>\n",
       "      <th>3</th>\n",
       "      <td>0.636686</td>\n",
       "      <td>2.368200</td>\n",
       "      <td>-0.214936</td>\n",
       "      <td>-0.281234</td>\n",
       "      <td>-0.122502</td>\n",
       "      <td>-0.063992</td>\n",
       "      <td>-0.502543</td>\n",
       "      <td>0.244888</td>\n",
       "      <td>-0.542948</td>\n",
       "      <td>-0.314072</td>\n",
       "      <td>...</td>\n",
       "      <td>-0.016307</td>\n",
       "      <td>-0.020754</td>\n",
       "      <td>-0.016184</td>\n",
       "      <td>-0.010319</td>\n",
       "      <td>-0.005803</td>\n",
       "      <td>-0.022067</td>\n",
       "      <td>-0.016176</td>\n",
       "      <td>-0.020647</td>\n",
       "      <td>-0.026422</td>\n",
       "      <td>-0.014791</td>\n",
       "    </tr>\n",
       "    <tr>\n",
       "      <th>4</th>\n",
       "      <td>0.563951</td>\n",
       "      <td>-0.055217</td>\n",
       "      <td>-0.333835</td>\n",
       "      <td>0.244784</td>\n",
       "      <td>-0.095730</td>\n",
       "      <td>-0.199279</td>\n",
       "      <td>-0.389021</td>\n",
       "      <td>-0.358985</td>\n",
       "      <td>0.752980</td>\n",
       "      <td>-0.358740</td>\n",
       "      <td>...</td>\n",
       "      <td>-0.016308</td>\n",
       "      <td>-0.020853</td>\n",
       "      <td>-0.016187</td>\n",
       "      <td>-0.010320</td>\n",
       "      <td>-0.005804</td>\n",
       "      <td>-0.020923</td>\n",
       "      <td>-0.016176</td>\n",
       "      <td>-0.020647</td>\n",
       "      <td>-0.026422</td>\n",
       "      <td>-0.014791</td>\n",
       "    </tr>\n",
       "  </tbody>\n",
       "</table>\n",
       "<p>5 rows × 2381 columns</p>\n",
       "</div>"
      ],
      "text/plain": [
       "   (ByteHistorgram-0,)  (ByteHistorgram-1,)  (ByteHistorgram-2,)  \\\n",
       "0            -1.137667            -0.713545            -0.400251   \n",
       "1            -1.134417            -0.716158            -0.396512   \n",
       "2            -1.122385            -0.714130            -0.401314   \n",
       "3             0.636686             2.368200            -0.214936   \n",
       "4             0.563951            -0.055217            -0.333835   \n",
       "\n",
       "   (ByteHistorgram-3,)  (ByteHistorgram-4,)  (ByteHistorgram-5,)  \\\n",
       "0            -0.250323            -0.341734            -0.055461   \n",
       "1            -0.240663            -0.337414            -0.055016   \n",
       "2            -0.244660            -0.334247            -0.067405   \n",
       "3            -0.281234            -0.122502            -0.063992   \n",
       "4             0.244784            -0.095730            -0.199279   \n",
       "\n",
       "   (ByteHistorgram-6,)  (ByteHistorgram-7,)  (ByteHistorgram-8,)  \\\n",
       "0            -0.146172             0.100514            -0.550944   \n",
       "1            -0.134112             0.083309            -0.563923   \n",
       "2            -0.138085             0.111495            -0.539702   \n",
       "3            -0.502543             0.244888            -0.542948   \n",
       "4            -0.389021            -0.358985             0.752980   \n",
       "\n",
       "   (ByteHistorgram-9,)  ...  (size of data directories - 10,)  \\\n",
       "0             0.145270  ...                         -0.016308   \n",
       "1             0.135229  ...                         -0.016308   \n",
       "2             0.153068  ...                         -0.016308   \n",
       "3            -0.314072  ...                         -0.016307   \n",
       "4            -0.358740  ...                         -0.016308   \n",
       "\n",
       "   (virtual size of data directories - 10,)  (size of data directories - 11,)  \\\n",
       "0                                 -0.020853                         -0.016188   \n",
       "1                                 -0.020853                         -0.016188   \n",
       "2                                 -0.020853                         -0.016188   \n",
       "3                                 -0.020754                         -0.016184   \n",
       "4                                 -0.020853                         -0.016187   \n",
       "\n",
       "   (virtual size of data directories - 11,)  (size of data directories - 12,)  \\\n",
       "0                                 -0.010345                         -0.005820   \n",
       "1                                 -0.010345                         -0.005820   \n",
       "2                                 -0.010345                         -0.005820   \n",
       "3                                 -0.010319                         -0.005803   \n",
       "4                                 -0.010320                         -0.005804   \n",
       "\n",
       "   (virtual size of data directories - 12,)  (size of data directories - 13,)  \\\n",
       "0                                 -0.022133                         -0.016176   \n",
       "1                                 -0.022133                         -0.016176   \n",
       "2                                 -0.022133                         -0.016176   \n",
       "3                                 -0.022067                         -0.016176   \n",
       "4                                 -0.020923                         -0.016176   \n",
       "\n",
       "   (virtual size of data directories - 13,)  (size of data directories - 14,)  \\\n",
       "0                                 -0.020647                         -0.026422   \n",
       "1                                 -0.020647                         -0.026422   \n",
       "2                                 -0.020647                         -0.026422   \n",
       "3                                 -0.020647                         -0.026422   \n",
       "4                                 -0.020647                         -0.026422   \n",
       "\n",
       "   (virtual size of data directories - 14,)  \n",
       "0                                 -0.014791  \n",
       "1                                 -0.014791  \n",
       "2                                 -0.014791  \n",
       "3                                 -0.014791  \n",
       "4                                 -0.014791  \n",
       "\n",
       "[5 rows x 2381 columns]"
      ]
     },
     "execution_count": 27,
     "metadata": {},
     "output_type": "execute_result"
    }
   ],
   "source": [
    "X_Train_scaled_df.head()"
   ]
  },
  {
   "cell_type": "markdown",
   "id": "e10b5b29",
   "metadata": {},
   "source": [
    "# Feature Selection- Dropping constant features - Variance Threshold"
   ]
  },
  {
   "cell_type": "code",
   "execution_count": 28,
   "id": "9dc66213",
   "metadata": {},
   "outputs": [
    {
     "data": {
      "text/plain": [
       "VarianceThreshold(threshold=0)"
      ]
     },
     "execution_count": 28,
     "metadata": {},
     "output_type": "execute_result"
    }
   ],
   "source": [
    "from sklearn.feature_selection import VarianceThreshold\n",
    "\n",
    "\n",
    "#threshold 0.0\n",
    "selector = VarianceThreshold(threshold=0)\n",
    "selector.fit(X_Train_scaled_df)"
   ]
  },
  {
   "cell_type": "code",
   "execution_count": 29,
   "id": "62a4e122",
   "metadata": {},
   "outputs": [
    {
     "data": {
      "text/plain": [
       "2333"
      ]
     },
     "execution_count": 29,
     "metadata": {},
     "output_type": "execute_result"
    }
   ],
   "source": [
    "### Finding non constant features\n",
    "\n",
    "sum(selector.get_support())"
   ]
  },
  {
   "cell_type": "code",
   "execution_count": 42,
   "id": "363358ff",
   "metadata": {},
   "outputs": [
    {
     "data": {
      "text/plain": [
       "VarianceThreshold(threshold=1)"
      ]
     },
     "execution_count": 42,
     "metadata": {},
     "output_type": "execute_result"
    }
   ],
   "source": [
    "#threshold 0.1\n",
    "selector_1 = VarianceThreshold(threshold=1)\n",
    "selector_1.fit(X_Train_scaled_df)"
   ]
  },
  {
   "cell_type": "code",
   "execution_count": 43,
   "id": "27858eb0",
   "metadata": {},
   "outputs": [
    {
     "data": {
      "text/plain": [
       "1184"
      ]
     },
     "execution_count": 43,
     "metadata": {},
     "output_type": "execute_result"
    }
   ],
   "source": [
    "sum(selector_1.get_support())"
   ]
  },
  {
   "cell_type": "markdown",
   "id": "c880a887",
   "metadata": {},
   "source": [
    "# Feature Selection- With Correlation"
   ]
  },
  {
   "cell_type": "code",
   "execution_count": 44,
   "id": "b2c7ba60",
   "metadata": {},
   "outputs": [
    {
     "data": {
      "text/html": [
       "<div>\n",
       "<style scoped>\n",
       "    .dataframe tbody tr th:only-of-type {\n",
       "        vertical-align: middle;\n",
       "    }\n",
       "\n",
       "    .dataframe tbody tr th {\n",
       "        vertical-align: top;\n",
       "    }\n",
       "\n",
       "    .dataframe thead th {\n",
       "        text-align: right;\n",
       "    }\n",
       "</style>\n",
       "<table border=\"1\" class=\"dataframe\">\n",
       "  <thead>\n",
       "    <tr style=\"text-align: right;\">\n",
       "      <th></th>\n",
       "      <th>(ByteHistorgram-0,)</th>\n",
       "      <th>(ByteHistorgram-1,)</th>\n",
       "      <th>(ByteHistorgram-2,)</th>\n",
       "      <th>(ByteHistorgram-3,)</th>\n",
       "      <th>(ByteHistorgram-4,)</th>\n",
       "      <th>(ByteHistorgram-5,)</th>\n",
       "      <th>(ByteHistorgram-6,)</th>\n",
       "      <th>(ByteHistorgram-7,)</th>\n",
       "      <th>(ByteHistorgram-8,)</th>\n",
       "      <th>(ByteHistorgram-9,)</th>\n",
       "      <th>...</th>\n",
       "      <th>(size of data directories - 10,)</th>\n",
       "      <th>(virtual size of data directories - 10,)</th>\n",
       "      <th>(size of data directories - 11,)</th>\n",
       "      <th>(virtual size of data directories - 11,)</th>\n",
       "      <th>(size of data directories - 12,)</th>\n",
       "      <th>(virtual size of data directories - 12,)</th>\n",
       "      <th>(size of data directories - 13,)</th>\n",
       "      <th>(virtual size of data directories - 13,)</th>\n",
       "      <th>(size of data directories - 14,)</th>\n",
       "      <th>(virtual size of data directories - 14,)</th>\n",
       "    </tr>\n",
       "  </thead>\n",
       "  <tbody>\n",
       "    <tr>\n",
       "      <th>(ByteHistorgram-0,)</th>\n",
       "      <td>1.000000</td>\n",
       "      <td>0.077799</td>\n",
       "      <td>0.007582</td>\n",
       "      <td>-0.068633</td>\n",
       "      <td>-0.002758</td>\n",
       "      <td>-0.126240</td>\n",
       "      <td>-0.033491</td>\n",
       "      <td>-0.171629</td>\n",
       "      <td>-0.161953</td>\n",
       "      <td>-0.144614</td>\n",
       "      <td>...</td>\n",
       "      <td>0.014685</td>\n",
       "      <td>0.012620</td>\n",
       "      <td>0.012297</td>\n",
       "      <td>-0.000561</td>\n",
       "      <td>-0.006479</td>\n",
       "      <td>0.014661</td>\n",
       "      <td>0.015601</td>\n",
       "      <td>0.011685</td>\n",
       "      <td>-0.009976</td>\n",
       "      <td>0.006945</td>\n",
       "    </tr>\n",
       "    <tr>\n",
       "      <th>(ByteHistorgram-1,)</th>\n",
       "      <td>0.077799</td>\n",
       "      <td>1.000000</td>\n",
       "      <td>0.471931</td>\n",
       "      <td>0.257311</td>\n",
       "      <td>0.200757</td>\n",
       "      <td>0.205032</td>\n",
       "      <td>0.250471</td>\n",
       "      <td>0.119424</td>\n",
       "      <td>0.227603</td>\n",
       "      <td>0.048433</td>\n",
       "      <td>...</td>\n",
       "      <td>-0.008966</td>\n",
       "      <td>-0.008811</td>\n",
       "      <td>-0.008964</td>\n",
       "      <td>-0.005962</td>\n",
       "      <td>-0.003512</td>\n",
       "      <td>-0.007896</td>\n",
       "      <td>-0.008864</td>\n",
       "      <td>-0.009126</td>\n",
       "      <td>-0.017631</td>\n",
       "      <td>-0.008001</td>\n",
       "    </tr>\n",
       "    <tr>\n",
       "      <th>(ByteHistorgram-2,)</th>\n",
       "      <td>0.007582</td>\n",
       "      <td>0.471931</td>\n",
       "      <td>1.000000</td>\n",
       "      <td>0.266891</td>\n",
       "      <td>0.207223</td>\n",
       "      <td>0.205368</td>\n",
       "      <td>0.295709</td>\n",
       "      <td>0.185230</td>\n",
       "      <td>0.194769</td>\n",
       "      <td>0.095322</td>\n",
       "      <td>...</td>\n",
       "      <td>0.005088</td>\n",
       "      <td>0.004145</td>\n",
       "      <td>0.004302</td>\n",
       "      <td>-0.000016</td>\n",
       "      <td>-0.002030</td>\n",
       "      <td>0.005447</td>\n",
       "      <td>0.005388</td>\n",
       "      <td>0.005698</td>\n",
       "      <td>-0.006323</td>\n",
       "      <td>0.002688</td>\n",
       "    </tr>\n",
       "    <tr>\n",
       "      <th>(ByteHistorgram-3,)</th>\n",
       "      <td>-0.068633</td>\n",
       "      <td>0.257311</td>\n",
       "      <td>0.266891</td>\n",
       "      <td>1.000000</td>\n",
       "      <td>0.128278</td>\n",
       "      <td>0.174326</td>\n",
       "      <td>0.169397</td>\n",
       "      <td>0.134301</td>\n",
       "      <td>0.158532</td>\n",
       "      <td>0.075740</td>\n",
       "      <td>...</td>\n",
       "      <td>-0.001763</td>\n",
       "      <td>-0.002005</td>\n",
       "      <td>-0.001853</td>\n",
       "      <td>-0.001567</td>\n",
       "      <td>-0.001161</td>\n",
       "      <td>-0.001842</td>\n",
       "      <td>-0.001701</td>\n",
       "      <td>-0.001598</td>\n",
       "      <td>-0.008817</td>\n",
       "      <td>-0.001807</td>\n",
       "    </tr>\n",
       "    <tr>\n",
       "      <th>(ByteHistorgram-4,)</th>\n",
       "      <td>-0.002758</td>\n",
       "      <td>0.200757</td>\n",
       "      <td>0.207223</td>\n",
       "      <td>0.128278</td>\n",
       "      <td>1.000000</td>\n",
       "      <td>0.111810</td>\n",
       "      <td>0.138169</td>\n",
       "      <td>0.095794</td>\n",
       "      <td>0.191436</td>\n",
       "      <td>0.026282</td>\n",
       "      <td>...</td>\n",
       "      <td>-0.006301</td>\n",
       "      <td>-0.006297</td>\n",
       "      <td>-0.006188</td>\n",
       "      <td>-0.003709</td>\n",
       "      <td>-0.001894</td>\n",
       "      <td>-0.006139</td>\n",
       "      <td>-0.006280</td>\n",
       "      <td>-0.006638</td>\n",
       "      <td>-0.012969</td>\n",
       "      <td>-0.005387</td>\n",
       "    </tr>\n",
       "    <tr>\n",
       "      <th>...</th>\n",
       "      <td>...</td>\n",
       "      <td>...</td>\n",
       "      <td>...</td>\n",
       "      <td>...</td>\n",
       "      <td>...</td>\n",
       "      <td>...</td>\n",
       "      <td>...</td>\n",
       "      <td>...</td>\n",
       "      <td>...</td>\n",
       "      <td>...</td>\n",
       "      <td>...</td>\n",
       "      <td>...</td>\n",
       "      <td>...</td>\n",
       "      <td>...</td>\n",
       "      <td>...</td>\n",
       "      <td>...</td>\n",
       "      <td>...</td>\n",
       "      <td>...</td>\n",
       "      <td>...</td>\n",
       "      <td>...</td>\n",
       "      <td>...</td>\n",
       "    </tr>\n",
       "    <tr>\n",
       "      <th>(virtual size of data directories - 12,)</th>\n",
       "      <td>0.014661</td>\n",
       "      <td>-0.007896</td>\n",
       "      <td>0.005447</td>\n",
       "      <td>-0.001842</td>\n",
       "      <td>-0.006139</td>\n",
       "      <td>-0.002848</td>\n",
       "      <td>-0.007302</td>\n",
       "      <td>-0.005051</td>\n",
       "      <td>-0.012121</td>\n",
       "      <td>-0.003191</td>\n",
       "      <td>...</td>\n",
       "      <td>0.994703</td>\n",
       "      <td>0.987929</td>\n",
       "      <td>0.959728</td>\n",
       "      <td>0.511128</td>\n",
       "      <td>0.211165</td>\n",
       "      <td>1.000000</td>\n",
       "      <td>0.999104</td>\n",
       "      <td>0.994197</td>\n",
       "      <td>0.521319</td>\n",
       "      <td>0.811479</td>\n",
       "    </tr>\n",
       "    <tr>\n",
       "      <th>(size of data directories - 13,)</th>\n",
       "      <td>0.015601</td>\n",
       "      <td>-0.008864</td>\n",
       "      <td>0.005388</td>\n",
       "      <td>-0.001701</td>\n",
       "      <td>-0.006280</td>\n",
       "      <td>-0.003391</td>\n",
       "      <td>-0.006183</td>\n",
       "      <td>-0.004749</td>\n",
       "      <td>-0.014579</td>\n",
       "      <td>-0.002689</td>\n",
       "      <td>...</td>\n",
       "      <td>0.996384</td>\n",
       "      <td>0.989434</td>\n",
       "      <td>0.963088</td>\n",
       "      <td>0.519521</td>\n",
       "      <td>0.220411</td>\n",
       "      <td>0.999104</td>\n",
       "      <td>1.000000</td>\n",
       "      <td>0.995633</td>\n",
       "      <td>0.521124</td>\n",
       "      <td>0.817554</td>\n",
       "    </tr>\n",
       "    <tr>\n",
       "      <th>(virtual size of data directories - 13,)</th>\n",
       "      <td>0.011685</td>\n",
       "      <td>-0.009126</td>\n",
       "      <td>0.005698</td>\n",
       "      <td>-0.001598</td>\n",
       "      <td>-0.006638</td>\n",
       "      <td>-0.003053</td>\n",
       "      <td>-0.006044</td>\n",
       "      <td>-0.003182</td>\n",
       "      <td>-0.013493</td>\n",
       "      <td>-0.002166</td>\n",
       "      <td>...</td>\n",
       "      <td>0.999612</td>\n",
       "      <td>0.997924</td>\n",
       "      <td>0.982895</td>\n",
       "      <td>0.593477</td>\n",
       "      <td>0.306462</td>\n",
       "      <td>0.994197</td>\n",
       "      <td>0.995633</td>\n",
       "      <td>1.000000</td>\n",
       "      <td>0.512432</td>\n",
       "      <td>0.865351</td>\n",
       "    </tr>\n",
       "    <tr>\n",
       "      <th>(size of data directories - 14,)</th>\n",
       "      <td>-0.009976</td>\n",
       "      <td>-0.017631</td>\n",
       "      <td>-0.006323</td>\n",
       "      <td>-0.008817</td>\n",
       "      <td>-0.012969</td>\n",
       "      <td>-0.009324</td>\n",
       "      <td>-0.007078</td>\n",
       "      <td>-0.012311</td>\n",
       "      <td>-0.021727</td>\n",
       "      <td>-0.007843</td>\n",
       "      <td>...</td>\n",
       "      <td>0.513205</td>\n",
       "      <td>0.505563</td>\n",
       "      <td>0.482767</td>\n",
       "      <td>0.210038</td>\n",
       "      <td>0.045572</td>\n",
       "      <td>0.521319</td>\n",
       "      <td>0.521124</td>\n",
       "      <td>0.512432</td>\n",
       "      <td>1.000000</td>\n",
       "      <td>0.385137</td>\n",
       "    </tr>\n",
       "    <tr>\n",
       "      <th>(virtual size of data directories - 14,)</th>\n",
       "      <td>0.006945</td>\n",
       "      <td>-0.008001</td>\n",
       "      <td>0.002688</td>\n",
       "      <td>-0.001807</td>\n",
       "      <td>-0.005387</td>\n",
       "      <td>-0.002126</td>\n",
       "      <td>-0.004660</td>\n",
       "      <td>-0.003379</td>\n",
       "      <td>-0.013162</td>\n",
       "      <td>-0.001082</td>\n",
       "      <td>...</td>\n",
       "      <td>0.863521</td>\n",
       "      <td>0.889754</td>\n",
       "      <td>0.942384</td>\n",
       "      <td>0.916766</td>\n",
       "      <td>0.741872</td>\n",
       "      <td>0.811479</td>\n",
       "      <td>0.817554</td>\n",
       "      <td>0.865351</td>\n",
       "      <td>0.385137</td>\n",
       "      <td>1.000000</td>\n",
       "    </tr>\n",
       "  </tbody>\n",
       "</table>\n",
       "<p>2381 rows × 2381 columns</p>\n",
       "</div>"
      ],
      "text/plain": [
       "                                          (ByteHistorgram-0,)  \\\n",
       "(ByteHistorgram-0,)                                  1.000000   \n",
       "(ByteHistorgram-1,)                                  0.077799   \n",
       "(ByteHistorgram-2,)                                  0.007582   \n",
       "(ByteHistorgram-3,)                                 -0.068633   \n",
       "(ByteHistorgram-4,)                                 -0.002758   \n",
       "...                                                       ...   \n",
       "(virtual size of data directories - 12,)             0.014661   \n",
       "(size of data directories - 13,)                     0.015601   \n",
       "(virtual size of data directories - 13,)             0.011685   \n",
       "(size of data directories - 14,)                    -0.009976   \n",
       "(virtual size of data directories - 14,)             0.006945   \n",
       "\n",
       "                                          (ByteHistorgram-1,)  \\\n",
       "(ByteHistorgram-0,)                                  0.077799   \n",
       "(ByteHistorgram-1,)                                  1.000000   \n",
       "(ByteHistorgram-2,)                                  0.471931   \n",
       "(ByteHistorgram-3,)                                  0.257311   \n",
       "(ByteHistorgram-4,)                                  0.200757   \n",
       "...                                                       ...   \n",
       "(virtual size of data directories - 12,)            -0.007896   \n",
       "(size of data directories - 13,)                    -0.008864   \n",
       "(virtual size of data directories - 13,)            -0.009126   \n",
       "(size of data directories - 14,)                    -0.017631   \n",
       "(virtual size of data directories - 14,)            -0.008001   \n",
       "\n",
       "                                          (ByteHistorgram-2,)  \\\n",
       "(ByteHistorgram-0,)                                  0.007582   \n",
       "(ByteHistorgram-1,)                                  0.471931   \n",
       "(ByteHistorgram-2,)                                  1.000000   \n",
       "(ByteHistorgram-3,)                                  0.266891   \n",
       "(ByteHistorgram-4,)                                  0.207223   \n",
       "...                                                       ...   \n",
       "(virtual size of data directories - 12,)             0.005447   \n",
       "(size of data directories - 13,)                     0.005388   \n",
       "(virtual size of data directories - 13,)             0.005698   \n",
       "(size of data directories - 14,)                    -0.006323   \n",
       "(virtual size of data directories - 14,)             0.002688   \n",
       "\n",
       "                                          (ByteHistorgram-3,)  \\\n",
       "(ByteHistorgram-0,)                                 -0.068633   \n",
       "(ByteHistorgram-1,)                                  0.257311   \n",
       "(ByteHistorgram-2,)                                  0.266891   \n",
       "(ByteHistorgram-3,)                                  1.000000   \n",
       "(ByteHistorgram-4,)                                  0.128278   \n",
       "...                                                       ...   \n",
       "(virtual size of data directories - 12,)            -0.001842   \n",
       "(size of data directories - 13,)                    -0.001701   \n",
       "(virtual size of data directories - 13,)            -0.001598   \n",
       "(size of data directories - 14,)                    -0.008817   \n",
       "(virtual size of data directories - 14,)            -0.001807   \n",
       "\n",
       "                                          (ByteHistorgram-4,)  \\\n",
       "(ByteHistorgram-0,)                                 -0.002758   \n",
       "(ByteHistorgram-1,)                                  0.200757   \n",
       "(ByteHistorgram-2,)                                  0.207223   \n",
       "(ByteHistorgram-3,)                                  0.128278   \n",
       "(ByteHistorgram-4,)                                  1.000000   \n",
       "...                                                       ...   \n",
       "(virtual size of data directories - 12,)            -0.006139   \n",
       "(size of data directories - 13,)                    -0.006280   \n",
       "(virtual size of data directories - 13,)            -0.006638   \n",
       "(size of data directories - 14,)                    -0.012969   \n",
       "(virtual size of data directories - 14,)            -0.005387   \n",
       "\n",
       "                                          (ByteHistorgram-5,)  \\\n",
       "(ByteHistorgram-0,)                                 -0.126240   \n",
       "(ByteHistorgram-1,)                                  0.205032   \n",
       "(ByteHistorgram-2,)                                  0.205368   \n",
       "(ByteHistorgram-3,)                                  0.174326   \n",
       "(ByteHistorgram-4,)                                  0.111810   \n",
       "...                                                       ...   \n",
       "(virtual size of data directories - 12,)            -0.002848   \n",
       "(size of data directories - 13,)                    -0.003391   \n",
       "(virtual size of data directories - 13,)            -0.003053   \n",
       "(size of data directories - 14,)                    -0.009324   \n",
       "(virtual size of data directories - 14,)            -0.002126   \n",
       "\n",
       "                                          (ByteHistorgram-6,)  \\\n",
       "(ByteHistorgram-0,)                                 -0.033491   \n",
       "(ByteHistorgram-1,)                                  0.250471   \n",
       "(ByteHistorgram-2,)                                  0.295709   \n",
       "(ByteHistorgram-3,)                                  0.169397   \n",
       "(ByteHistorgram-4,)                                  0.138169   \n",
       "...                                                       ...   \n",
       "(virtual size of data directories - 12,)            -0.007302   \n",
       "(size of data directories - 13,)                    -0.006183   \n",
       "(virtual size of data directories - 13,)            -0.006044   \n",
       "(size of data directories - 14,)                    -0.007078   \n",
       "(virtual size of data directories - 14,)            -0.004660   \n",
       "\n",
       "                                          (ByteHistorgram-7,)  \\\n",
       "(ByteHistorgram-0,)                                 -0.171629   \n",
       "(ByteHistorgram-1,)                                  0.119424   \n",
       "(ByteHistorgram-2,)                                  0.185230   \n",
       "(ByteHistorgram-3,)                                  0.134301   \n",
       "(ByteHistorgram-4,)                                  0.095794   \n",
       "...                                                       ...   \n",
       "(virtual size of data directories - 12,)            -0.005051   \n",
       "(size of data directories - 13,)                    -0.004749   \n",
       "(virtual size of data directories - 13,)            -0.003182   \n",
       "(size of data directories - 14,)                    -0.012311   \n",
       "(virtual size of data directories - 14,)            -0.003379   \n",
       "\n",
       "                                          (ByteHistorgram-8,)  \\\n",
       "(ByteHistorgram-0,)                                 -0.161953   \n",
       "(ByteHistorgram-1,)                                  0.227603   \n",
       "(ByteHistorgram-2,)                                  0.194769   \n",
       "(ByteHistorgram-3,)                                  0.158532   \n",
       "(ByteHistorgram-4,)                                  0.191436   \n",
       "...                                                       ...   \n",
       "(virtual size of data directories - 12,)            -0.012121   \n",
       "(size of data directories - 13,)                    -0.014579   \n",
       "(virtual size of data directories - 13,)            -0.013493   \n",
       "(size of data directories - 14,)                    -0.021727   \n",
       "(virtual size of data directories - 14,)            -0.013162   \n",
       "\n",
       "                                          (ByteHistorgram-9,)  ...  \\\n",
       "(ByteHistorgram-0,)                                 -0.144614  ...   \n",
       "(ByteHistorgram-1,)                                  0.048433  ...   \n",
       "(ByteHistorgram-2,)                                  0.095322  ...   \n",
       "(ByteHistorgram-3,)                                  0.075740  ...   \n",
       "(ByteHistorgram-4,)                                  0.026282  ...   \n",
       "...                                                       ...  ...   \n",
       "(virtual size of data directories - 12,)            -0.003191  ...   \n",
       "(size of data directories - 13,)                    -0.002689  ...   \n",
       "(virtual size of data directories - 13,)            -0.002166  ...   \n",
       "(size of data directories - 14,)                    -0.007843  ...   \n",
       "(virtual size of data directories - 14,)            -0.001082  ...   \n",
       "\n",
       "                                          (size of data directories - 10,)  \\\n",
       "(ByteHistorgram-0,)                                               0.014685   \n",
       "(ByteHistorgram-1,)                                              -0.008966   \n",
       "(ByteHistorgram-2,)                                               0.005088   \n",
       "(ByteHistorgram-3,)                                              -0.001763   \n",
       "(ByteHistorgram-4,)                                              -0.006301   \n",
       "...                                                                    ...   \n",
       "(virtual size of data directories - 12,)                          0.994703   \n",
       "(size of data directories - 13,)                                  0.996384   \n",
       "(virtual size of data directories - 13,)                          0.999612   \n",
       "(size of data directories - 14,)                                  0.513205   \n",
       "(virtual size of data directories - 14,)                          0.863521   \n",
       "\n",
       "                                          (virtual size of data directories - 10,)  \\\n",
       "(ByteHistorgram-0,)                                                       0.012620   \n",
       "(ByteHistorgram-1,)                                                      -0.008811   \n",
       "(ByteHistorgram-2,)                                                       0.004145   \n",
       "(ByteHistorgram-3,)                                                      -0.002005   \n",
       "(ByteHistorgram-4,)                                                      -0.006297   \n",
       "...                                                                            ...   \n",
       "(virtual size of data directories - 12,)                                  0.987929   \n",
       "(size of data directories - 13,)                                          0.989434   \n",
       "(virtual size of data directories - 13,)                                  0.997924   \n",
       "(size of data directories - 14,)                                          0.505563   \n",
       "(virtual size of data directories - 14,)                                  0.889754   \n",
       "\n",
       "                                          (size of data directories - 11,)  \\\n",
       "(ByteHistorgram-0,)                                               0.012297   \n",
       "(ByteHistorgram-1,)                                              -0.008964   \n",
       "(ByteHistorgram-2,)                                               0.004302   \n",
       "(ByteHistorgram-3,)                                              -0.001853   \n",
       "(ByteHistorgram-4,)                                              -0.006188   \n",
       "...                                                                    ...   \n",
       "(virtual size of data directories - 12,)                          0.959728   \n",
       "(size of data directories - 13,)                                  0.963088   \n",
       "(virtual size of data directories - 13,)                          0.982895   \n",
       "(size of data directories - 14,)                                  0.482767   \n",
       "(virtual size of data directories - 14,)                          0.942384   \n",
       "\n",
       "                                          (virtual size of data directories - 11,)  \\\n",
       "(ByteHistorgram-0,)                                                      -0.000561   \n",
       "(ByteHistorgram-1,)                                                      -0.005962   \n",
       "(ByteHistorgram-2,)                                                      -0.000016   \n",
       "(ByteHistorgram-3,)                                                      -0.001567   \n",
       "(ByteHistorgram-4,)                                                      -0.003709   \n",
       "...                                                                            ...   \n",
       "(virtual size of data directories - 12,)                                  0.511128   \n",
       "(size of data directories - 13,)                                          0.519521   \n",
       "(virtual size of data directories - 13,)                                  0.593477   \n",
       "(size of data directories - 14,)                                          0.210038   \n",
       "(virtual size of data directories - 14,)                                  0.916766   \n",
       "\n",
       "                                          (size of data directories - 12,)  \\\n",
       "(ByteHistorgram-0,)                                              -0.006479   \n",
       "(ByteHistorgram-1,)                                              -0.003512   \n",
       "(ByteHistorgram-2,)                                              -0.002030   \n",
       "(ByteHistorgram-3,)                                              -0.001161   \n",
       "(ByteHistorgram-4,)                                              -0.001894   \n",
       "...                                                                    ...   \n",
       "(virtual size of data directories - 12,)                          0.211165   \n",
       "(size of data directories - 13,)                                  0.220411   \n",
       "(virtual size of data directories - 13,)                          0.306462   \n",
       "(size of data directories - 14,)                                  0.045572   \n",
       "(virtual size of data directories - 14,)                          0.741872   \n",
       "\n",
       "                                          (virtual size of data directories - 12,)  \\\n",
       "(ByteHistorgram-0,)                                                       0.014661   \n",
       "(ByteHistorgram-1,)                                                      -0.007896   \n",
       "(ByteHistorgram-2,)                                                       0.005447   \n",
       "(ByteHistorgram-3,)                                                      -0.001842   \n",
       "(ByteHistorgram-4,)                                                      -0.006139   \n",
       "...                                                                            ...   \n",
       "(virtual size of data directories - 12,)                                  1.000000   \n",
       "(size of data directories - 13,)                                          0.999104   \n",
       "(virtual size of data directories - 13,)                                  0.994197   \n",
       "(size of data directories - 14,)                                          0.521319   \n",
       "(virtual size of data directories - 14,)                                  0.811479   \n",
       "\n",
       "                                          (size of data directories - 13,)  \\\n",
       "(ByteHistorgram-0,)                                               0.015601   \n",
       "(ByteHistorgram-1,)                                              -0.008864   \n",
       "(ByteHistorgram-2,)                                               0.005388   \n",
       "(ByteHistorgram-3,)                                              -0.001701   \n",
       "(ByteHistorgram-4,)                                              -0.006280   \n",
       "...                                                                    ...   \n",
       "(virtual size of data directories - 12,)                          0.999104   \n",
       "(size of data directories - 13,)                                  1.000000   \n",
       "(virtual size of data directories - 13,)                          0.995633   \n",
       "(size of data directories - 14,)                                  0.521124   \n",
       "(virtual size of data directories - 14,)                          0.817554   \n",
       "\n",
       "                                          (virtual size of data directories - 13,)  \\\n",
       "(ByteHistorgram-0,)                                                       0.011685   \n",
       "(ByteHistorgram-1,)                                                      -0.009126   \n",
       "(ByteHistorgram-2,)                                                       0.005698   \n",
       "(ByteHistorgram-3,)                                                      -0.001598   \n",
       "(ByteHistorgram-4,)                                                      -0.006638   \n",
       "...                                                                            ...   \n",
       "(virtual size of data directories - 12,)                                  0.994197   \n",
       "(size of data directories - 13,)                                          0.995633   \n",
       "(virtual size of data directories - 13,)                                  1.000000   \n",
       "(size of data directories - 14,)                                          0.512432   \n",
       "(virtual size of data directories - 14,)                                  0.865351   \n",
       "\n",
       "                                          (size of data directories - 14,)  \\\n",
       "(ByteHistorgram-0,)                                              -0.009976   \n",
       "(ByteHistorgram-1,)                                              -0.017631   \n",
       "(ByteHistorgram-2,)                                              -0.006323   \n",
       "(ByteHistorgram-3,)                                              -0.008817   \n",
       "(ByteHistorgram-4,)                                              -0.012969   \n",
       "...                                                                    ...   \n",
       "(virtual size of data directories - 12,)                          0.521319   \n",
       "(size of data directories - 13,)                                  0.521124   \n",
       "(virtual size of data directories - 13,)                          0.512432   \n",
       "(size of data directories - 14,)                                  1.000000   \n",
       "(virtual size of data directories - 14,)                          0.385137   \n",
       "\n",
       "                                          (virtual size of data directories - 14,)  \n",
       "(ByteHistorgram-0,)                                                       0.006945  \n",
       "(ByteHistorgram-1,)                                                      -0.008001  \n",
       "(ByteHistorgram-2,)                                                       0.002688  \n",
       "(ByteHistorgram-3,)                                                      -0.001807  \n",
       "(ByteHistorgram-4,)                                                      -0.005387  \n",
       "...                                                                            ...  \n",
       "(virtual size of data directories - 12,)                                  0.811479  \n",
       "(size of data directories - 13,)                                          0.817554  \n",
       "(virtual size of data directories - 13,)                                  0.865351  \n",
       "(size of data directories - 14,)                                          0.385137  \n",
       "(virtual size of data directories - 14,)                                  1.000000  \n",
       "\n",
       "[2381 rows x 2381 columns]"
      ]
     },
     "execution_count": 44,
     "metadata": {},
     "output_type": "execute_result"
    }
   ],
   "source": [
    "X_Train_scaled_df.corr()"
   ]
  },
  {
   "cell_type": "code",
   "execution_count": 45,
   "id": "917ab998",
   "metadata": {},
   "outputs": [],
   "source": [
    "# with the following function we can select highly correlated features\n",
    "# it will remove the first feature that is correlated with anything other feature\n",
    "\n",
    "def correlation(dataset, threshold):\n",
    "    col_corr = set()  # Set of all the names of correlated columns\n",
    "    corr_matrix = dataset.corr()\n",
    "    for i in range(len(corr_matrix.columns)):\n",
    "        for j in range(i):\n",
    "            if abs(corr_matrix.iloc[i, j]) > threshold: # we are interested in absolute coeff value\n",
    "                colname = corr_matrix.columns[i]  # getting the name of column\n",
    "                col_corr.add(colname)\n",
    "    return col_corr"
   ]
  },
  {
   "cell_type": "code",
   "execution_count": 48,
   "id": "a8ccbe5c",
   "metadata": {},
   "outputs": [
    {
     "data": {
      "text/plain": [
       "935"
      ]
     },
     "execution_count": 48,
     "metadata": {},
     "output_type": "execute_result"
    }
   ],
   "source": [
    "corr_features = correlation(X_Train_scaled_df, 0.5)\n",
    "len(set(corr_features))"
   ]
  },
  {
   "cell_type": "code",
   "execution_count": 49,
   "id": "c947ec46",
   "metadata": {},
   "outputs": [
    {
     "data": {
      "text/plain": [
       "670"
      ]
     },
     "execution_count": 49,
     "metadata": {},
     "output_type": "execute_result"
    }
   ],
   "source": [
    "corr_features_1 = correlation(X_Train_scaled_df, 0.6)\n",
    "len(set(corr_features_1))"
   ]
  },
  {
   "cell_type": "code",
   "execution_count": 50,
   "id": "b308f513",
   "metadata": {},
   "outputs": [
    {
     "data": {
      "text/plain": [
       "501"
      ]
     },
     "execution_count": 50,
     "metadata": {},
     "output_type": "execute_result"
    }
   ],
   "source": [
    "corr_features_2 = correlation(X_Train_scaled_df, 0.7)\n",
    "len(set(corr_features_2))"
   ]
  },
  {
   "cell_type": "code",
   "execution_count": 51,
   "id": "d998d64f",
   "metadata": {},
   "outputs": [
    {
     "data": {
      "text/plain": [
       "392"
      ]
     },
     "execution_count": 51,
     "metadata": {},
     "output_type": "execute_result"
    }
   ],
   "source": [
    "corr_features_3 = correlation(X_Train_scaled_df, 0.8)\n",
    "len(set(corr_features_3))"
   ]
  },
  {
   "cell_type": "code",
   "execution_count": 52,
   "id": "6c578960",
   "metadata": {},
   "outputs": [
    {
     "data": {
      "text/plain": [
       "310"
      ]
     },
     "execution_count": 52,
     "metadata": {},
     "output_type": "execute_result"
    }
   ],
   "source": [
    "corr_features_4 = correlation(X_Train_scaled_df, 0.9)\n",
    "len(set(corr_features_4))"
   ]
  },
  {
   "cell_type": "code",
   "execution_count": 53,
   "id": "4fd34043",
   "metadata": {},
   "outputs": [
    {
     "data": {
      "text/plain": [
       "350"
      ]
     },
     "execution_count": 53,
     "metadata": {},
     "output_type": "execute_result"
    }
   ],
   "source": [
    "corr_features_5 = correlation(X_Train_scaled_df, 0.85)\n",
    "len(set(corr_features_5))"
   ]
  },
  {
   "cell_type": "markdown",
   "id": "2c8dffaa",
   "metadata": {},
   "source": [
    "# Feature Selection-Information gain - mutual information"
   ]
  },
  {
   "cell_type": "code",
   "execution_count": 54,
   "id": "45b03c8a",
   "metadata": {},
   "outputs": [
    {
     "data": {
      "text/plain": [
       "array([0.15812959, 0.17333583, 0.14454224, ..., 0.04024201, 0.0329049 ,\n",
       "       0.03291611])"
      ]
     },
     "execution_count": 54,
     "metadata": {},
     "output_type": "execute_result"
    }
   ],
   "source": [
    "from sklearn.feature_selection import mutual_info_classif\n",
    "\n",
    "# determine the mutual information\n",
    "mutual_info = mutual_info_classif(X_Train_scaled_df, y_train)\n",
    "mutual_info"
   ]
  },
  {
   "cell_type": "code",
   "execution_count": 55,
   "id": "c999a241",
   "metadata": {},
   "outputs": [
    {
     "data": {
      "text/plain": [
       "(virtual size of data directories - 1,)                  0.263923\n",
       "(size of data directories - 2,)                          0.252010\n",
       "(when the file was created,)                             0.245299\n",
       "(hash on pair of section name and virtual size - 43,)    0.224090\n",
       "(hash on pair of section name and entropy - 43,)         0.219444\n",
       "                                                           ...   \n",
       "(hash on list of properties of entry point - 25,)        0.000000\n",
       "(hash on list of library:function - 126,)                0.000000\n",
       "(hash optional dll_characteristics - 6,)                 0.000000\n",
       "(hash on list of library:function - 128,)                0.000000\n",
       "(hash on list of library:function - 860,)                0.000000\n",
       "Length: 2381, dtype: float64"
      ]
     },
     "execution_count": 55,
     "metadata": {},
     "output_type": "execute_result"
    }
   ],
   "source": [
    "mutual_info = pd.Series(mutual_info)\n",
    "mutual_info.index =X_Train_scaled_df.columns\n",
    "mutual_info.sort_values(ascending=False)"
   ]
  },
  {
   "cell_type": "code",
   "execution_count": 56,
   "id": "60d8a200",
   "metadata": {},
   "outputs": [],
   "source": [
    "from sklearn.feature_selection import SelectKBest"
   ]
  },
  {
   "cell_type": "code",
   "execution_count": 57,
   "id": "61f07917",
   "metadata": {},
   "outputs": [
    {
     "data": {
      "text/plain": [
       "Index([                                  ('ByteHistorgram-1',),\n",
       "                                        ('ByteHistorgram-32',),\n",
       "                                       ('ByteHistorgram-101',),\n",
       "                                       ('ByteHistorgram-106',),\n",
       "                                       ('ByteHistorgram-114',),\n",
       "                                       ('ByteHistorgram-116',),\n",
       "                                       ('ByteHistorgram-127',),\n",
       "                                       ('ByteHistorgram-137',),\n",
       "                                       ('ByteHistorgram-139',),\n",
       "                                       ('ByteHistorgram-141',),\n",
       "                                       ('ByteHistorgram-142',),\n",
       "                                       ('ByteHistorgram-155',),\n",
       "                                       ('ByteHistorgram-157',),\n",
       "                                       ('ByteHistorgram-158',),\n",
       "                                       ('ByteHistorgram-159',),\n",
       "                                       ('ByteHistorgram-166',),\n",
       "                                       ('ByteHistorgram-170',),\n",
       "                                       ('ByteHistorgram-171',),\n",
       "                                       ('ByteHistorgram-174',),\n",
       "                                       ('ByteHistorgram-179',),\n",
       "                                       ('ByteHistorgram-181',),\n",
       "                                       ('ByteHistorgram-187',),\n",
       "                                       ('ByteHistorgram-189',),\n",
       "                                       ('ByteHistorgram-190',),\n",
       "                                       ('ByteHistorgram-191',),\n",
       "                                       ('ByteHistorgram-213',),\n",
       "                                       ('ByteHistorgram-218',),\n",
       "                                       ('ByteHistorgram-221',),\n",
       "                                       ('ByteHistorgram-222',),\n",
       "                                       ('ByteHistorgram-223',),\n",
       "                                       ('ByteHistorgram-226',),\n",
       "                                       ('ByteHistorgram-227',),\n",
       "                                       ('ByteHistorgram-231',),\n",
       "                                       ('ByteHistorgram-237',),\n",
       "                                       ('ByteHistorgram-238',),\n",
       "                                       ('ByteHistorgram-239',),\n",
       "                                ('ByteEntropyHistorgram-112',),\n",
       "                                ('ByteEntropyHistorgram-113',),\n",
       "                                ('ByteEntropyHistorgram-114',),\n",
       "                                ('ByteEntropyHistorgram-116',),\n",
       "                                ('ByteEntropyHistorgram-117',),\n",
       "                                ('ByteEntropyHistorgram-118',),\n",
       "                                ('ByteEntropyHistorgram-119',),\n",
       "                                ('ByteEntropyHistorgram-128',),\n",
       "                                ('ByteEntropyHistorgram-130',),\n",
       "                                ('ByteEntropyHistorgram-133',),\n",
       "                                ('ByteEntropyHistorgram-135',),\n",
       "                                ('ByteEntropyHistorgram-144',),\n",
       "                                ('ByteEntropyHistorgram-145',),\n",
       "                                ('ByteEntropyHistorgram-146',),\n",
       "                                ('ByteEntropyHistorgram-147',),\n",
       "                                ('ByteEntropyHistorgram-148',),\n",
       "                                ('ByteEntropyHistorgram-149',),\n",
       "                                ('ByteEntropyHistorgram-150',),\n",
       "                                ('ByteEntropyHistorgram-151',),\n",
       "                                ('ByteEntropyHistorgram-160',),\n",
       "                                ('ByteEntropyHistorgram-161',),\n",
       "                                ('ByteEntropyHistorgram-162',),\n",
       "                                ('ByteEntropyHistorgram-167',),\n",
       "                                ('ByteEntropyHistorgram-208',),\n",
       "                                ('ByteEntropyHistorgram-209',),\n",
       "                                ('ByteEntropyHistorgram-210',),\n",
       "                                ('ByteEntropyHistorgram-212',),\n",
       "                                ('ByteEntropyHistorgram-216',),\n",
       "                                ('ByteEntropyHistorgram-220',),\n",
       "                                ('ByteEntropyHistorgram-223',),\n",
       "                                ('ByteEntropyHistorgram-240',),\n",
       "                                ('ByteEntropyHistorgram-241',),\n",
       "                                ('ByteEntropyHistorgram-242',),\n",
       "                                ('ByteEntropyHistorgram-243',),\n",
       "                                ('ByteEntropyHistorgram-244',),\n",
       "                                ('ByteEntropyHistorgram-245',),\n",
       "                                ('ByteEntropyHistorgram-246',),\n",
       "                                ('ByteEntropyHistorgram-247',),\n",
       "                                ('ByteEntropyHistorgram-248',),\n",
       "                                ('ByteEntropyHistorgram-249',),\n",
       "                                ('ByteEntropyHistorgram-250',),\n",
       "                                ('ByteEntropyHistorgram-251',),\n",
       "                                ('ByteEntropyHistorgram-252',),\n",
       "                                ('ByteEntropyHistorgram-253',),\n",
       "                                ('ByteEntropyHistorgram-254',),\n",
       "                                ('ByteEntropyHistorgram-255',),\n",
       "              ('avg length of consecutive printable strings',),\n",
       "                         ('freq of printable characters - *',),\n",
       "                         ('freq of printable characters - @',),\n",
       "                         ('freq of printable characters - `',),\n",
       "                         ('freq of printable characters - q',),\n",
       "                         ('freq of printable characters - }',),\n",
       "                            ('entropy of the byte histogram',),\n",
       "                          ('length of the bytes of the file',),\n",
       "                                ('when the file was created',),\n",
       "                                              ('sizeof_code',),\n",
       "            ('hash on pair of section name and entropy - 41',),\n",
       "            ('hash on pair of section name and entropy - 43',),\n",
       "       ('hash on pair of section name and virtual size - 41',),\n",
       "       ('hash on pair of section name and virtual size - 43',),\n",
       "                             ('size of data directories - 1',),\n",
       "                     ('virtual size of data directories - 1',),\n",
       "                             ('size of data directories - 2',),\n",
       "                     ('virtual size of data directories - 6',)],\n",
       "      dtype='object')"
      ]
     },
     "execution_count": 57,
     "metadata": {},
     "output_type": "execute_result"
    }
   ],
   "source": [
    "#No we Will select the  top 5 important features\n",
    "sel_100_cols = SelectKBest(mutual_info_classif, k=100)\n",
    "sel_100_cols.fit(X_Train_scaled_df, y_train)\n",
    "X_Train_scaled_df.columns[sel_100_cols.get_support()]"
   ]
  },
  {
   "cell_type": "markdown",
   "id": "440bdb82",
   "metadata": {},
   "source": [
    "# Feature Selection - Univariate feature selection - F-test"
   ]
  },
  {
   "cell_type": "code",
   "execution_count": 59,
   "id": "a1f8a20b",
   "metadata": {},
   "outputs": [
    {
     "name": "stderr",
     "output_type": "stream",
     "text": [
      "C:\\Users\\Ngobi\\anaconda3\\lib\\site-packages\\sklearn\\feature_selection\\_univariate_selection.py:114: UserWarning: Features [627 629 636 638 648 650 652 659 663 666 667 669 670 672 673 674 675 676\n",
      " 849 859 862 867 883 891 894 896 898 899 900 904 905 908 909 910 912 917\n",
      " 919 920 922 923 924 925 926 931 932 934 936 937] are constant.\n",
      "  warnings.warn(\"Features %s are constant.\" % constant_features_idx,\n",
      "C:\\Users\\Ngobi\\anaconda3\\lib\\site-packages\\sklearn\\feature_selection\\_univariate_selection.py:116: RuntimeWarning: invalid value encountered in true_divide\n",
      "  f = msb / msw\n"
     ]
    },
    {
     "data": {
      "text/plain": [
       "Index([                                ('ByteHistorgram-1',),\n",
       "                                      ('ByteHistorgram-74',),\n",
       "                                      ('ByteHistorgram-90',),\n",
       "                                      ('ByteHistorgram-94',),\n",
       "                                      ('ByteHistorgram-97',),\n",
       "                                     ('ByteHistorgram-101',),\n",
       "                                     ('ByteHistorgram-105',),\n",
       "                                     ('ByteHistorgram-110',),\n",
       "                                     ('ByteHistorgram-111',),\n",
       "                                     ('ByteHistorgram-114',),\n",
       "                                     ('ByteHistorgram-115',),\n",
       "                                     ('ByteHistorgram-116',),\n",
       "                                     ('ByteHistorgram-150',),\n",
       "                                     ('ByteHistorgram-151',),\n",
       "                                     ('ByteHistorgram-152',),\n",
       "                                     ('ByteHistorgram-154',),\n",
       "                                     ('ByteHistorgram-156',),\n",
       "                                     ('ByteHistorgram-157',),\n",
       "                                     ('ByteHistorgram-158',),\n",
       "                                     ('ByteHistorgram-163',),\n",
       "                                     ('ByteHistorgram-167',),\n",
       "                                     ('ByteHistorgram-171',),\n",
       "                                     ('ByteHistorgram-174',),\n",
       "                                     ('ByteHistorgram-175',),\n",
       "                                     ('ByteHistorgram-178',),\n",
       "                                     ('ByteHistorgram-180',),\n",
       "                                     ('ByteHistorgram-182',),\n",
       "                                     ('ByteHistorgram-186',),\n",
       "                                     ('ByteHistorgram-202',),\n",
       "                                     ('ByteHistorgram-216',),\n",
       "                                     ('ByteHistorgram-221',),\n",
       "                                     ('ByteHistorgram-222',),\n",
       "                                     ('ByteHistorgram-223',),\n",
       "                              ('ByteEntropyHistorgram-118',),\n",
       "                              ('ByteEntropyHistorgram-119',),\n",
       "                              ('ByteEntropyHistorgram-128',),\n",
       "                              ('ByteEntropyHistorgram-134',),\n",
       "                              ('ByteEntropyHistorgram-135',),\n",
       "                              ('ByteEntropyHistorgram-144',),\n",
       "                              ('ByteEntropyHistorgram-145',),\n",
       "                              ('ByteEntropyHistorgram-240',),\n",
       "                              ('ByteEntropyHistorgram-241',),\n",
       "                              ('ByteEntropyHistorgram-242',),\n",
       "                              ('ByteEntropyHistorgram-243',),\n",
       "                              ('ByteEntropyHistorgram-244',),\n",
       "                              ('ByteEntropyHistorgram-245',),\n",
       "                              ('ByteEntropyHistorgram-246',),\n",
       "                              ('ByteEntropyHistorgram-247',),\n",
       "                              ('ByteEntropyHistorgram-248',),\n",
       "                              ('ByteEntropyHistorgram-249',),\n",
       "                              ('ByteEntropyHistorgram-250',),\n",
       "                              ('ByteEntropyHistorgram-251',),\n",
       "                              ('ByteEntropyHistorgram-252',),\n",
       "                              ('ByteEntropyHistorgram-253',),\n",
       "                              ('ByteEntropyHistorgram-254',),\n",
       "                              ('ByteEntropyHistorgram-255',),\n",
       "                       ('freq of printable characters - &',),\n",
       "                       ('freq of printable characters - '',),\n",
       "                       ('freq of printable characters - +',),\n",
       "                       ('freq of printable characters - F',),\n",
       "                       ('freq of printable characters - J',),\n",
       "                       ('freq of printable characters - K',),\n",
       "                       ('freq of printable characters - `',),\n",
       "                       ('freq of printable characters - a',),\n",
       "                       ('freq of printable characters - c',),\n",
       "                       ('freq of printable characters - i',),\n",
       "                       ('freq of printable characters - n',),\n",
       "                       ('freq of printable characters - o',),\n",
       "                       ('freq of printable characters - r',),\n",
       "                       ('freq of printable characters - t',),\n",
       "                       ('freq of printable characters - z',),\n",
       "                       ('freq of printable characters - |',),\n",
       "                       ('freq of printable characters - ~',),\n",
       "                          ('entropy of the byte histogram',),\n",
       "                 ('whether the binary has a debug section',),\n",
       "                           ('whether the binary is signed',),\n",
       "                             ('hash COFF machine type - 5',),\n",
       "                             ('hash COFF machine type - 6',),\n",
       "                          ('hash COFF characteristics - 0',),\n",
       "                          ('hash COFF characteristics - 2',),\n",
       "                          ('hash COFF characteristics - 3',),\n",
       "                          ('hash COFF characteristics - 4',),\n",
       "                          ('hash COFF characteristics - 5',),\n",
       "                            ('hash optional subsystem - 7',),\n",
       "                            ('hash optional subsystem - 8',),\n",
       "                  ('hash optional dll_characteristics - 1',),\n",
       "                  ('hash optional dll_characteristics - 3',),\n",
       "                  ('hash optional dll_characteristics - 8',),\n",
       "                         ('hash optional magic number - 1',),\n",
       "                         ('hash optional magic number - 4',),\n",
       "                         ('major_operating_system_version',),\n",
       "                                ('major_subsystem_version',),\n",
       "       ('# of sections with \"props\" including \"MEM_WRITE\"',),\n",
       "         ('hash on list of properties of entry point - 37',),\n",
       "         ('hash on list of unique imported libraries - 30',),\n",
       "         ('hash on list of unique imported libraries - 53',),\n",
       "        ('hash on list of unique imported libraries - 100',),\n",
       "        ('hash on list of unique imported libraries - 117',),\n",
       "        ('hash on list of unique imported libraries - 231',),\n",
       "                ('hash on list of library:function - 1011',)],\n",
       "      dtype='object')"
      ]
     },
     "execution_count": 59,
     "metadata": {},
     "output_type": "execute_result"
    }
   ],
   "source": [
    "from sklearn.feature_selection import f_classif\n",
    "\n",
    "\n",
    "f_cl_100_cols = SelectKBest(f_classif, k=100).fit(X_Train_scaled_df, y_train)\n",
    "\n",
    "X_Train_scaled_df.columns[f_cl_100_cols.get_support()]"
   ]
  },
  {
   "cell_type": "code",
   "execution_count": 60,
   "id": "6195408a",
   "metadata": {},
   "outputs": [
    {
     "name": "stderr",
     "output_type": "stream",
     "text": [
      "C:\\Users\\Ngobi\\anaconda3\\lib\\site-packages\\sklearn\\feature_selection\\_univariate_selection.py:114: UserWarning: Features [627 629 636 638 648 650 652 659 663 666 667 669 670 672 673 674 675 676\n",
      " 849 859 862 867 883 891 894 896 898 899 900 904 905 908 909 910 912 917\n",
      " 919 920 922 923 924 925 926 931 932 934 936 937] are constant.\n",
      "  warnings.warn(\"Features %s are constant.\" % constant_features_idx,\n",
      "C:\\Users\\Ngobi\\anaconda3\\lib\\site-packages\\sklearn\\feature_selection\\_univariate_selection.py:116: RuntimeWarning: invalid value encountered in true_divide\n",
      "  f = msb / msw\n"
     ]
    },
    {
     "data": {
      "text/plain": [
       "(array([ 766.9451   , 2010.4202   ,  932.08954  , ...,    9.509689 ,\n",
       "          21.075314 ,    6.2023115], dtype=float32),\n",
       " array([0.0000000e+00, 0.0000000e+00, 0.0000000e+00, ..., 2.0457536e-03,\n",
       "        4.4337035e-06, 1.2763726e-02], dtype=float32))"
      ]
     },
     "execution_count": 60,
     "metadata": {},
     "output_type": "execute_result"
    }
   ],
   "source": [
    "univ_f_classif = f_classif(X_Train_scaled_df, y_train)\n",
    "\n",
    "univ_f_classif "
   ]
  },
  {
   "cell_type": "code",
   "execution_count": null,
   "id": "23bf39dc",
   "metadata": {},
   "outputs": [],
   "source": []
  }
 ],
 "metadata": {
  "kernelspec": {
   "display_name": "Python 3 (ipykernel)",
   "language": "python",
   "name": "python3"
  },
  "language_info": {
   "codemirror_mode": {
    "name": "ipython",
    "version": 3
   },
   "file_extension": ".py",
   "mimetype": "text/x-python",
   "name": "python",
   "nbconvert_exporter": "python",
   "pygments_lexer": "ipython3",
   "version": "3.9.7"
  }
 },
 "nbformat": 4,
 "nbformat_minor": 5
}
